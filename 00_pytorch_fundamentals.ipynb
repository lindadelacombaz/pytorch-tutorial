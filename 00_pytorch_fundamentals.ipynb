{
  "nbformat": 4,
  "nbformat_minor": 0,
  "metadata": {
    "colab": {
      "provenance": [],
      "collapsed_sections": [
        "05iGmGqP4ytZ",
        "PerTEtnQ53v1",
        "X-sX6Eab6UlM",
        "Y44lj4oEWdaC",
        "340Xp8TsYQIN",
        "Wfweo3HHZEdq",
        "-eX_Oh4m6dN9",
        "nImmgOQ1ZqwL",
        "fz5J9GVSAVnT",
        "L92BGsE0B9Zk",
        "Yo1BxOcvDjF7"
      ],
      "authorship_tag": "ABX9TyOHihX8qNt/PstKiW3quj2a",
      "include_colab_link": true
    },
    "kernelspec": {
      "name": "python3",
      "display_name": "Python 3"
    },
    "language_info": {
      "name": "python"
    }
  },
  "cells": [
    {
      "cell_type": "markdown",
      "metadata": {
        "id": "view-in-github",
        "colab_type": "text"
      },
      "source": [
        "<a href=\"https://colab.research.google.com/github/lindadelacombaz/pytorch-tutorial/blob/main/00_pytorch_fundamentals.ipynb\" target=\"_parent\"><img src=\"https://colab.research.google.com/assets/colab-badge.svg\" alt=\"Open In Colab\"/></a>"
      ]
    },
    {
      "cell_type": "markdown",
      "source": [
        "# 0. Pytorch Fundamentals"
      ],
      "metadata": {
        "id": "4T_4S3JX4mcI"
      }
    },
    {
      "cell_type": "code",
      "source": [
        "import torch\n",
        "print(torch.__version__)"
      ],
      "metadata": {
        "colab": {
          "base_uri": "https://localhost:8080/"
        },
        "id": "0t6iNgrVFFxD",
        "outputId": "36cb7867-fe20-4981-88ab-1b56d6021f50"
      },
      "execution_count": null,
      "outputs": [
        {
          "output_type": "stream",
          "name": "stdout",
          "text": [
            "2.4.1+cu121\n"
          ]
        }
      ]
    },
    {
      "cell_type": "code",
      "source": [
        "import pandas as pd\n",
        "import numpy as np\n",
        "import matplotlib.pyplot as plt"
      ],
      "metadata": {
        "id": "APZV0mW3FK4H"
      },
      "execution_count": null,
      "outputs": []
    },
    {
      "cell_type": "markdown",
      "source": [
        "## 1. Basics\n",
        "\n",
        "[Tensors](https://pytorch.org/tutorials/beginner/basics/tensorqs_tutorial.html) are a specialized data structure that are very similar to arrays and matrices. In PyTorch, we use tensors to encode the inputs and outputs of a model, as well as the model’s parameters.\n",
        "\n",
        "Tensors are similar to NumPy’s ndarrays, except that tensors can run on GPUs or other hardware accelerators. In fact, tensors and NumPy arrays can often share the same underlying memory, eliminating the need to copy data (see Bridge with NumPy). Tensors are also optimized for automatic differentiation (we’ll see more about that later in the Autograd section). If you’re familiar with ndarrays, you’ll be right at home with the Tensor API. If not, follow along!\n",
        "\n",
        "Numpy is a great framework, but it cannot utilize GPUs to accelerate its numerical computations. For modern deep neural networks, GPUs often provide speedups of 50x or greater, so unfortunately numpy won’t be enough for modern deep learning."
      ],
      "metadata": {
        "id": "05iGmGqP4ytZ"
      }
    },
    {
      "cell_type": "markdown",
      "source": [
        "#### 1.1 Initialization"
      ],
      "metadata": {
        "id": "PerTEtnQ53v1"
      }
    },
    {
      "cell_type": "code",
      "source": [
        "# scalar\n",
        "scalar = torch.tensor(7)\n",
        "scalar"
      ],
      "metadata": {
        "colab": {
          "base_uri": "https://localhost:8080/"
        },
        "id": "DcnWiR3fGEJx",
        "outputId": "d8dd9750-ca4d-457a-babd-d4f5bc543e40"
      },
      "execution_count": null,
      "outputs": [
        {
          "output_type": "execute_result",
          "data": {
            "text/plain": [
              "tensor(7)"
            ]
          },
          "metadata": {},
          "execution_count": 88
        }
      ]
    },
    {
      "cell_type": "code",
      "source": [
        "scalar.ndim"
      ],
      "metadata": {
        "colab": {
          "base_uri": "https://localhost:8080/"
        },
        "id": "PtG3LmVoGNGr",
        "outputId": "6c80c52a-edd6-4882-fb44-8159e69020c9"
      },
      "execution_count": null,
      "outputs": [
        {
          "output_type": "execute_result",
          "data": {
            "text/plain": [
              "0"
            ]
          },
          "metadata": {},
          "execution_count": 89
        }
      ]
    },
    {
      "cell_type": "code",
      "source": [
        "scalar.item()"
      ],
      "metadata": {
        "colab": {
          "base_uri": "https://localhost:8080/"
        },
        "id": "yi7D7nB0GlCO",
        "outputId": "cbac7bf3-a110-4496-81d3-b6823188e205"
      },
      "execution_count": null,
      "outputs": [
        {
          "output_type": "execute_result",
          "data": {
            "text/plain": [
              "7"
            ]
          },
          "metadata": {},
          "execution_count": 90
        }
      ]
    },
    {
      "cell_type": "code",
      "source": [
        "vector_1 = torch.tensor([1,7])\n",
        "vector_1\n",
        "vector_1.ndim"
      ],
      "metadata": {
        "colab": {
          "base_uri": "https://localhost:8080/"
        },
        "id": "E_TD1pR7Quzi",
        "outputId": "65e0a802-d38a-47b7-eef8-0d9cb44f2422"
      },
      "execution_count": null,
      "outputs": [
        {
          "output_type": "execute_result",
          "data": {
            "text/plain": [
              "1"
            ]
          },
          "metadata": {},
          "execution_count": 91
        }
      ]
    },
    {
      "cell_type": "code",
      "source": [
        "vector = torch.tensor([7,7])\n",
        "vector"
      ],
      "metadata": {
        "colab": {
          "base_uri": "https://localhost:8080/"
        },
        "id": "XHl-V2y1Goob",
        "outputId": "08892bdc-1351-492f-a6c9-bfd93d65c8e4"
      },
      "execution_count": null,
      "outputs": [
        {
          "output_type": "execute_result",
          "data": {
            "text/plain": [
              "tensor([7, 7])"
            ]
          },
          "metadata": {},
          "execution_count": 92
        }
      ]
    },
    {
      "cell_type": "markdown",
      "source": [
        "From data"
      ],
      "metadata": {
        "id": "c5xguyD96AEm"
      }
    },
    {
      "cell_type": "code",
      "source": [
        "data = [[1, 2],[3, 4]]\n",
        "x_data = torch.tensor(data)"
      ],
      "metadata": {
        "id": "KgXQgRrp5-R3"
      },
      "execution_count": null,
      "outputs": []
    },
    {
      "cell_type": "markdown",
      "source": [
        "From another tensor"
      ],
      "metadata": {
        "id": "zP6J1aqY6IZZ"
      }
    },
    {
      "cell_type": "code",
      "source": [
        "x_ones = torch.ones_like(x_data) # retains the properties of x_data\n",
        "print(f\"Ones Tensor: \\n {x_ones} \\n\")\n",
        "\n",
        "x_rand = torch.rand_like(x_data, dtype=torch.float) # overrides the datatype of x_data\n",
        "print(f\"Random Tensor: \\n {x_rand} \\n\")"
      ],
      "metadata": {
        "colab": {
          "base_uri": "https://localhost:8080/"
        },
        "id": "Oeq23vIX5_L0",
        "outputId": "90b7eb09-b21c-4437-f30a-eb94eeeff088"
      },
      "execution_count": null,
      "outputs": [
        {
          "output_type": "stream",
          "name": "stdout",
          "text": [
            "Ones Tensor: \n",
            " tensor([[1, 1],\n",
            "        [1, 1]]) \n",
            "\n",
            "Random Tensor: \n",
            " tensor([[0.1816, 0.9998],\n",
            "        [0.5944, 0.6541]]) \n",
            "\n"
          ]
        }
      ]
    },
    {
      "cell_type": "markdown",
      "source": [
        "With random or constant values"
      ],
      "metadata": {
        "id": "q4GUK7ge6P1O"
      }
    },
    {
      "cell_type": "code",
      "source": [
        "shape = (2,3,)\n",
        "rand_tensor = torch.rand(shape)\n",
        "ones_tensor = torch.ones(shape)\n",
        "zeros_tensor = torch.zeros(shape)\n",
        "\n",
        "print(f\"Random Tensor: \\n {rand_tensor} \\n\")\n",
        "print(f\"Ones Tensor: \\n {ones_tensor} \\n\")\n",
        "print(f\"Zeros Tensor: \\n {zeros_tensor}\")"
      ],
      "metadata": {
        "colab": {
          "base_uri": "https://localhost:8080/"
        },
        "id": "rnVWD4TH6PcB",
        "outputId": "d580c1d3-3268-4e25-beb8-94d3eb058429"
      },
      "execution_count": null,
      "outputs": [
        {
          "output_type": "stream",
          "name": "stdout",
          "text": [
            "Random Tensor: \n",
            " tensor([[0.0337, 0.1716, 0.3336],\n",
            "        [0.5782, 0.0600, 0.2846]]) \n",
            "\n",
            "Ones Tensor: \n",
            " tensor([[1., 1., 1.],\n",
            "        [1., 1., 1.]]) \n",
            "\n",
            "Zeros Tensor: \n",
            " tensor([[0., 0., 0.],\n",
            "        [0., 0., 0.]])\n"
          ]
        }
      ]
    },
    {
      "cell_type": "markdown",
      "source": [
        "#### 1.2 Attributes of a Tensor"
      ],
      "metadata": {
        "id": "X-sX6Eab6UlM"
      }
    },
    {
      "cell_type": "code",
      "source": [
        "tensor = torch.rand(3,4)\n",
        "\n",
        "print(f\"Shape of tensor: {tensor.shape}\")\n",
        "print(f\"Datatype of tensor: {tensor.dtype}\")\n",
        "print(f\"Device tensor is stored on: {tensor.device}\")"
      ],
      "metadata": {
        "colab": {
          "base_uri": "https://localhost:8080/"
        },
        "id": "L4XvjhjJ6XLP",
        "outputId": "0db658d7-2adf-480d-bca6-651459035d6d"
      },
      "execution_count": null,
      "outputs": [
        {
          "output_type": "stream",
          "name": "stdout",
          "text": [
            "Shape of tensor: torch.Size([3, 4])\n",
            "Datatype of tensor: torch.float32\n",
            "Device tensor is stored on: cpu\n"
          ]
        }
      ]
    },
    {
      "cell_type": "markdown",
      "source": [
        "#### 1.3 Indexing (selecting data from tensors)"
      ],
      "metadata": {
        "id": "Y44lj4oEWdaC"
      }
    },
    {
      "cell_type": "code",
      "source": [
        "import torch"
      ],
      "metadata": {
        "id": "__0KSXXFWg99"
      },
      "execution_count": null,
      "outputs": []
    },
    {
      "cell_type": "code",
      "source": [
        "x_range = torch.arange(1,10)\n",
        "x_range"
      ],
      "metadata": {
        "colab": {
          "base_uri": "https://localhost:8080/"
        },
        "id": "KtlNKFIQRHtd",
        "outputId": "4daf54b0-19dc-40fa-eb2b-612cd2f4ab2e"
      },
      "execution_count": null,
      "outputs": [
        {
          "output_type": "execute_result",
          "data": {
            "text/plain": [
              "tensor([1, 2, 3, 4, 5, 6, 7, 8, 9])"
            ]
          },
          "metadata": {},
          "execution_count": 98
        }
      ]
    },
    {
      "cell_type": "code",
      "source": [
        "x = torch.arange(1,10).reshape(1,3,3)"
      ],
      "metadata": {
        "id": "xeDPS9gWWZCp"
      },
      "execution_count": null,
      "outputs": []
    },
    {
      "cell_type": "code",
      "source": [
        "x, x.shape"
      ],
      "metadata": {
        "colab": {
          "base_uri": "https://localhost:8080/"
        },
        "id": "5lRhEjaSWr56",
        "outputId": "b475193b-38cc-4722-c32f-490ad8881e0c"
      },
      "execution_count": null,
      "outputs": [
        {
          "output_type": "execute_result",
          "data": {
            "text/plain": [
              "(tensor([[[1, 2, 3],\n",
              "          [4, 5, 6],\n",
              "          [7, 8, 9]]]),\n",
              " torch.Size([1, 3, 3]))"
            ]
          },
          "metadata": {},
          "execution_count": 100
        }
      ]
    },
    {
      "cell_type": "code",
      "source": [
        "x[0]"
      ],
      "metadata": {
        "colab": {
          "base_uri": "https://localhost:8080/"
        },
        "id": "QRwxi685Wr-S",
        "outputId": "4801e526-4e2b-4fbd-da82-3172f8cb6840"
      },
      "execution_count": null,
      "outputs": [
        {
          "output_type": "execute_result",
          "data": {
            "text/plain": [
              "tensor([[1, 2, 3],\n",
              "        [4, 5, 6],\n",
              "        [7, 8, 9]])"
            ]
          },
          "metadata": {},
          "execution_count": 101
        }
      ]
    },
    {
      "cell_type": "code",
      "source": [
        "x[0][0]"
      ],
      "metadata": {
        "colab": {
          "base_uri": "https://localhost:8080/"
        },
        "id": "Gl04bK-pWsBa",
        "outputId": "5e818c44-483d-44e9-c559-2b0965018651"
      },
      "execution_count": null,
      "outputs": [
        {
          "output_type": "execute_result",
          "data": {
            "text/plain": [
              "tensor([1, 2, 3])"
            ]
          },
          "metadata": {},
          "execution_count": 102
        }
      ]
    },
    {
      "cell_type": "code",
      "source": [
        "x[0,0]"
      ],
      "metadata": {
        "colab": {
          "base_uri": "https://localhost:8080/"
        },
        "id": "CLw5nG7VW7sS",
        "outputId": "bec39189-5ed7-4c79-da0d-c50e2101bc5c"
      },
      "execution_count": null,
      "outputs": [
        {
          "output_type": "execute_result",
          "data": {
            "text/plain": [
              "tensor([1, 2, 3])"
            ]
          },
          "metadata": {},
          "execution_count": 103
        }
      ]
    },
    {
      "cell_type": "code",
      "source": [
        "x[0,0,2]"
      ],
      "metadata": {
        "colab": {
          "base_uri": "https://localhost:8080/"
        },
        "id": "DAoWhNasW7uX",
        "outputId": "262e2ac0-e8e7-4a6e-9a22-072f830b7a1c"
      },
      "execution_count": null,
      "outputs": [
        {
          "output_type": "execute_result",
          "data": {
            "text/plain": [
              "tensor(3)"
            ]
          },
          "metadata": {},
          "execution_count": 104
        }
      ]
    },
    {
      "cell_type": "code",
      "source": [
        "x[:,:,1]"
      ],
      "metadata": {
        "colab": {
          "base_uri": "https://localhost:8080/"
        },
        "id": "0aRgTee9W7w9",
        "outputId": "ebfb1163-2bde-4e80-8803-91d4bede4cd8"
      },
      "execution_count": null,
      "outputs": [
        {
          "output_type": "execute_result",
          "data": {
            "text/plain": [
              "tensor([[2, 5, 8]])"
            ]
          },
          "metadata": {},
          "execution_count": 105
        }
      ]
    },
    {
      "cell_type": "code",
      "source": [
        "x[:,1,1]"
      ],
      "metadata": {
        "colab": {
          "base_uri": "https://localhost:8080/"
        },
        "id": "Gpq2WImBW7zT",
        "outputId": "6eac3ced-85fe-4ff4-dcd6-6a2ac55c637a"
      },
      "execution_count": null,
      "outputs": [
        {
          "output_type": "execute_result",
          "data": {
            "text/plain": [
              "tensor([5])"
            ]
          },
          "metadata": {},
          "execution_count": 106
        }
      ]
    },
    {
      "cell_type": "code",
      "source": [
        "tensor = torch.ones(4, 4)\n",
        "print(f\"First row: {tensor[0]}\")\n",
        "print(f\"First column: {tensor[:, 0]}\")\n",
        "print(f\"Last column: {tensor[..., -1]}\")\n",
        "tensor[:,1] = 0\n",
        "print(tensor)"
      ],
      "metadata": {
        "colab": {
          "base_uri": "https://localhost:8080/"
        },
        "id": "W2i2sExV7swl",
        "outputId": "266c62ff-82f5-402b-9782-0e11f28b0394"
      },
      "execution_count": null,
      "outputs": [
        {
          "output_type": "stream",
          "name": "stdout",
          "text": [
            "First row: tensor([1., 1., 1., 1.])\n",
            "First column: tensor([1., 1., 1., 1.])\n",
            "Last column: tensor([1., 1., 1., 1.])\n",
            "tensor([[1., 0., 1., 1.],\n",
            "        [1., 0., 1., 1.],\n",
            "        [1., 0., 1., 1.],\n",
            "        [1., 0., 1., 1.]])\n"
          ]
        }
      ]
    },
    {
      "cell_type": "markdown",
      "source": [
        "Difference between tuples and tensors?\n",
        "Tensor --> stores order, element, multi-dim array, num data\n",
        "\n",
        "Tuples --> general purpose, 1dim collection but can be higher"
      ],
      "metadata": {
        "id": "CtwP8xkfR2Kn"
      }
    },
    {
      "cell_type": "markdown",
      "source": [
        "#### 1.4 Numpy to Tensor\n",
        "\n",
        "Tensors on the CPU and NumPy arrays can share their underlying memory locations, and changing one will change the other."
      ],
      "metadata": {
        "id": "340Xp8TsYQIN"
      }
    },
    {
      "cell_type": "code",
      "source": [
        "array = np.arange(1.0,  8.0)\n",
        "tensor = torch.from_numpy(array)  # when converting from numpy --> pytorch, pytorch relfects numpy's default dataype of float64\n",
        "# convert fo float64 to float 32 !\n",
        "array, tensor"
      ],
      "metadata": {
        "colab": {
          "base_uri": "https://localhost:8080/"
        },
        "id": "x4J1LgBLYSqM",
        "outputId": "c0bb7a24-d5bc-40e0-9267-b2d8f8a85845"
      },
      "execution_count": null,
      "outputs": [
        {
          "output_type": "execute_result",
          "data": {
            "text/plain": [
              "(array([1., 2., 3., 4., 5., 6., 7.]),\n",
              " tensor([1., 2., 3., 4., 5., 6., 7.], dtype=torch.float64))"
            ]
          },
          "metadata": {},
          "execution_count": 108
        }
      ]
    },
    {
      "cell_type": "code",
      "source": [
        "np.add(array, 1, out = array)\n",
        "array, tensor"
      ],
      "metadata": {
        "colab": {
          "base_uri": "https://localhost:8080/"
        },
        "id": "0_kUn_fp_3pS",
        "outputId": "b4e5c58a-7bf7-442b-9c59-5dbf69b2ca45"
      },
      "execution_count": null,
      "outputs": [
        {
          "output_type": "execute_result",
          "data": {
            "text/plain": [
              "(array([2., 3., 4., 5., 6., 7., 8.]),\n",
              " tensor([2., 3., 4., 5., 6., 7., 8.], dtype=torch.float64))"
            ]
          },
          "metadata": {},
          "execution_count": 109
        }
      ]
    },
    {
      "cell_type": "code",
      "source": [
        "array.dtype"
      ],
      "metadata": {
        "colab": {
          "base_uri": "https://localhost:8080/"
        },
        "id": "DTG86JJoYYMX",
        "outputId": "f70344b9-2f56-4d79-9f31-6c4917a3c976"
      },
      "execution_count": null,
      "outputs": [
        {
          "output_type": "execute_result",
          "data": {
            "text/plain": [
              "dtype('float64')"
            ]
          },
          "metadata": {},
          "execution_count": 110
        }
      ]
    },
    {
      "cell_type": "code",
      "source": [
        "torch.arange(1.0, 8.0).dtype"
      ],
      "metadata": {
        "colab": {
          "base_uri": "https://localhost:8080/"
        },
        "id": "D1zEStV4YbPJ",
        "outputId": "da07b3e9-a111-40fb-f91b-af877f8eb094"
      },
      "execution_count": null,
      "outputs": [
        {
          "output_type": "execute_result",
          "data": {
            "text/plain": [
              "torch.float32"
            ]
          },
          "metadata": {},
          "execution_count": 111
        }
      ]
    },
    {
      "cell_type": "markdown",
      "source": [
        "raw data --> we prefer to have the simpler version\n",
        "Machine Learning  "
      ],
      "metadata": {
        "id": "by8GXCHUS9IQ"
      }
    },
    {
      "cell_type": "markdown",
      "source": [
        "#### 1.5 Tensor to Numpy array"
      ],
      "metadata": {
        "id": "Wfweo3HHZEdq"
      }
    },
    {
      "cell_type": "code",
      "source": [
        "tensor = torch.ones(7)\n",
        "numpy_tensor = tensor.numpy()\n",
        "tensor, numpy_tensor"
      ],
      "metadata": {
        "colab": {
          "base_uri": "https://localhost:8080/"
        },
        "id": "YNZqPOvtZD83",
        "outputId": "1242da3a-2257-4717-e287-9bed44642f9a"
      },
      "execution_count": null,
      "outputs": [
        {
          "output_type": "execute_result",
          "data": {
            "text/plain": [
              "(tensor([1., 1., 1., 1., 1., 1., 1.]),\n",
              " array([1., 1., 1., 1., 1., 1., 1.], dtype=float32))"
            ]
          },
          "metadata": {},
          "execution_count": 120
        }
      ]
    },
    {
      "cell_type": "code",
      "source": [
        "numpy_tensor.dtype"
      ],
      "metadata": {
        "colab": {
          "base_uri": "https://localhost:8080/"
        },
        "id": "9a4XmkBKZPZa",
        "outputId": "78001111-a109-4871-f4ed-68c39e99e331"
      },
      "execution_count": null,
      "outputs": [
        {
          "output_type": "execute_result",
          "data": {
            "text/plain": [
              "dtype('float32')"
            ]
          },
          "metadata": {},
          "execution_count": 121
        }
      ]
    },
    {
      "cell_type": "markdown",
      "source": [
        "default pytorch = float32, default numpy = float 64!"
      ],
      "metadata": {
        "id": "PGVQdN2SZTLn"
      }
    },
    {
      "cell_type": "code",
      "source": [
        "tensor.add_(1)\n",
        "tensor, numpy_tensor"
      ],
      "metadata": {
        "colab": {
          "base_uri": "https://localhost:8080/"
        },
        "id": "U9DzUP1S_o68",
        "outputId": "8951f315-045a-48bc-ef2a-83ba48526d41"
      },
      "execution_count": null,
      "outputs": [
        {
          "output_type": "execute_result",
          "data": {
            "text/plain": [
              "(tensor([2., 2., 2., 2., 2., 2., 2.]),\n",
              " array([2., 2., 2., 2., 2., 2., 2.], dtype=float32))"
            ]
          },
          "metadata": {},
          "execution_count": 122
        }
      ]
    },
    {
      "cell_type": "markdown",
      "source": [
        "but..."
      ],
      "metadata": {
        "id": "npi98SIb_qCh"
      }
    },
    {
      "cell_type": "code",
      "source": [
        "tensor = tensor + 1\n",
        "tensor, numpy_tensor"
      ],
      "metadata": {
        "colab": {
          "base_uri": "https://localhost:8080/"
        },
        "id": "81uwXV3cZXop",
        "outputId": "68a7f34c-df64-4f66-8069-f1d46e0e14e2"
      },
      "execution_count": null,
      "outputs": [
        {
          "output_type": "execute_result",
          "data": {
            "text/plain": [
              "(tensor([3., 3., 3., 3., 3., 3., 3.]),\n",
              " array([2., 2., 2., 2., 2., 2., 2.], dtype=float32))"
            ]
          },
          "metadata": {},
          "execution_count": 123
        }
      ]
    },
    {
      "cell_type": "markdown",
      "source": [
        "#### 1.6 Operations on Tensors"
      ],
      "metadata": {
        "id": "-eX_Oh4m6dN9"
      }
    },
    {
      "cell_type": "markdown",
      "source": [
        "Over 100 tensor operations, including arithmetic, linear algebra, matrix manipulation (transposing, indexing, slicing), sampling and more are comprehensively described here.\n",
        "\n",
        "Each of these operations can be run on the GPU (at typically higher speeds than on a CPU). If you’re using Colab, allocate a GPU by going to Runtime > Change runtime type > GPU.\n",
        "\n",
        "By default, tensors are created on the CPU. We need to explicitly move tensors to the GPU using .to method (after checking for GPU availability). Keep in mind that copying large tensors across devices can be expensive in terms of time and memory!"
      ],
      "metadata": {
        "id": "kx_1R8EF7aH6"
      }
    },
    {
      "cell_type": "code",
      "source": [
        "# We move our tensor to the GPU if available\n",
        "if torch.cuda.is_available():\n",
        "    tensor = tensor.to(\"cuda\")"
      ],
      "metadata": {
        "id": "teqgXkFO7a7s"
      },
      "execution_count": null,
      "outputs": []
    },
    {
      "cell_type": "markdown",
      "source": [
        "Concatenation"
      ],
      "metadata": {
        "id": "lLjEroE-71dM"
      }
    },
    {
      "cell_type": "code",
      "source": [
        "tensor = torch.ones(4, 4)\n",
        "print(f\"First row: {tensor[0]}\")\n",
        "print(f\"First column: {tensor[:, 0]}\")\n",
        "print(f\"Last column: {tensor[..., -1]}\")\n",
        "tensor[:,1] = 0"
      ],
      "metadata": {
        "colab": {
          "base_uri": "https://localhost:8080/"
        },
        "id": "NcJF35GNDJAD",
        "outputId": "89e976a9-bc15-479c-98c2-ca15fa001934"
      },
      "execution_count": null,
      "outputs": [
        {
          "output_type": "stream",
          "name": "stdout",
          "text": [
            "First row: tensor([1., 1., 1., 1.])\n",
            "First column: tensor([1., 1., 1., 1.])\n",
            "Last column: tensor([1., 1., 1., 1.])\n"
          ]
        }
      ]
    },
    {
      "cell_type": "code",
      "source": [
        "t1 = torch.cat([tensor, tensor, tensor], dim=1)\n",
        "print(t1)"
      ],
      "metadata": {
        "colab": {
          "base_uri": "https://localhost:8080/"
        },
        "id": "DmMgZxpW6hWL",
        "outputId": "32e026fc-67f2-47ba-8e08-0983a2d4ceed"
      },
      "execution_count": null,
      "outputs": [
        {
          "output_type": "stream",
          "name": "stdout",
          "text": [
            "tensor([[1., 0., 1., 1., 1., 0., 1., 1., 1., 0., 1., 1.],\n",
            "        [1., 0., 1., 1., 1., 0., 1., 1., 1., 0., 1., 1.],\n",
            "        [1., 0., 1., 1., 1., 0., 1., 1., 1., 0., 1., 1.],\n",
            "        [1., 0., 1., 1., 1., 0., 1., 1., 1., 0., 1., 1.]])\n"
          ]
        }
      ]
    },
    {
      "cell_type": "markdown",
      "source": [
        "Arithmetic"
      ],
      "metadata": {
        "id": "d8BIiOnN76aD"
      }
    },
    {
      "cell_type": "code",
      "source": [
        "# This computes the matrix multiplication between two tensors. y1, y2, y3 will have the same value\n",
        "# ``tensor.T`` returns the transpose of a tensor\n",
        "y1 = tensor @ tensor.T\n",
        "y2 = tensor.matmul(tensor.T)\n",
        "\n",
        "y3 = torch.rand_like(y1)\n",
        "torch.matmul(tensor, tensor.T, out=y3)\n",
        "\n",
        "\n",
        "# This computes the element-wise product. z1, z2, z3 will have the same value\n",
        "z1 = tensor * tensor\n",
        "z2 = tensor.mul(tensor)\n",
        "\n",
        "z3 = torch.rand_like(tensor)\n",
        "torch.mul(tensor, tensor, out=z3)"
      ],
      "metadata": {
        "colab": {
          "base_uri": "https://localhost:8080/"
        },
        "id": "KdyhekhK77Eo",
        "outputId": "bd57bc64-4087-41d9-f77a-ea0f60ab752d"
      },
      "execution_count": null,
      "outputs": [
        {
          "output_type": "execute_result",
          "data": {
            "text/plain": [
              "tensor([[1., 0., 1., 1.],\n",
              "        [1., 0., 1., 1.],\n",
              "        [1., 0., 1., 1.],\n",
              "        [1., 0., 1., 1.]])"
            ]
          },
          "metadata": {},
          "execution_count": 127
        }
      ]
    },
    {
      "cell_type": "code",
      "source": [
        "y3"
      ],
      "metadata": {
        "colab": {
          "base_uri": "https://localhost:8080/"
        },
        "id": "ujKMBtoB95mw",
        "outputId": "5e0c109b-3c2f-4dba-da44-16e56688b18c"
      },
      "execution_count": null,
      "outputs": [
        {
          "output_type": "execute_result",
          "data": {
            "text/plain": [
              "tensor([[3., 3., 3., 3.],\n",
              "        [3., 3., 3., 3.],\n",
              "        [3., 3., 3., 3.],\n",
              "        [3., 3., 3., 3.]])"
            ]
          },
          "metadata": {},
          "execution_count": 128
        }
      ]
    },
    {
      "cell_type": "code",
      "source": [
        "z1"
      ],
      "metadata": {
        "colab": {
          "base_uri": "https://localhost:8080/"
        },
        "id": "6WIWkL1j9-sl",
        "outputId": "861a534c-4973-406b-a161-11248049e281"
      },
      "execution_count": null,
      "outputs": [
        {
          "output_type": "execute_result",
          "data": {
            "text/plain": [
              "tensor([[1., 0., 1., 1.],\n",
              "        [1., 0., 1., 1.],\n",
              "        [1., 0., 1., 1.],\n",
              "        [1., 0., 1., 1.]])"
            ]
          },
          "metadata": {},
          "execution_count": 129
        }
      ]
    },
    {
      "cell_type": "markdown",
      "source": [
        "Single-elements tensors\n",
        "\n",
        "If you have a one-element tensor, for example by aggregating all values of a tensor into one value, you can convert it to a Python numerical value using item():"
      ],
      "metadata": {
        "id": "wJjC__vk-hY2"
      }
    },
    {
      "cell_type": "markdown",
      "source": [
        "In-place operations\n",
        "\n",
        "Operations that store the result into the operand are called in-place. They are denoted by a _ suffix. For example: x.copy_(y), x.t_(), will change x."
      ],
      "metadata": {
        "id": "luYoFQY3-sve"
      }
    },
    {
      "cell_type": "code",
      "source": [
        "agg = tensor.sum()\n",
        "agg_item = agg.item()\n",
        "print(agg, agg_item, type(agg_item))"
      ],
      "metadata": {
        "colab": {
          "base_uri": "https://localhost:8080/"
        },
        "id": "-VVn0P2X-jxZ",
        "outputId": "6d8a3f50-6499-44bd-e26b-7d8c989c86ec"
      },
      "execution_count": null,
      "outputs": [
        {
          "output_type": "stream",
          "name": "stdout",
          "text": [
            "tensor(12.) 12.0 <class 'float'>\n"
          ]
        }
      ]
    },
    {
      "cell_type": "code",
      "source": [
        "print(f\"{tensor} \\n\")\n",
        "tensor.add_(5)\n",
        "print(tensor)"
      ],
      "metadata": {
        "colab": {
          "base_uri": "https://localhost:8080/"
        },
        "id": "KBe6zIjc-5sV",
        "outputId": "63b516fc-d0a6-458a-f8e8-893a1b193fc3"
      },
      "execution_count": null,
      "outputs": [
        {
          "output_type": "stream",
          "name": "stdout",
          "text": [
            "tensor([[1., 0., 1., 1.],\n",
            "        [1., 0., 1., 1.],\n",
            "        [1., 0., 1., 1.],\n",
            "        [1., 0., 1., 1.]]) \n",
            "\n",
            "tensor([[6., 5., 6., 6.],\n",
            "        [6., 5., 6., 6.],\n",
            "        [6., 5., 6., 6.],\n",
            "        [6., 5., 6., 6.]])\n"
          ]
        }
      ]
    },
    {
      "cell_type": "markdown",
      "source": [
        "#### 1.7 Reproducibility"
      ],
      "metadata": {
        "id": "nImmgOQ1ZqwL"
      }
    },
    {
      "cell_type": "code",
      "source": [
        "torch.rand(3,3)"
      ],
      "metadata": {
        "colab": {
          "base_uri": "https://localhost:8080/"
        },
        "id": "iqM_ZdU6Z4WO",
        "outputId": "e17dfba3-b8ac-4ea9-960a-1be11578c420"
      },
      "execution_count": null,
      "outputs": [
        {
          "output_type": "execute_result",
          "data": {
            "text/plain": [
              "tensor([[0.4761, 0.7792, 0.3722],\n",
              "        [0.2147, 0.3288, 0.1265],\n",
              "        [0.6783, 0.8870, 0.0293]])"
            ]
          },
          "metadata": {},
          "execution_count": 132
        }
      ]
    },
    {
      "cell_type": "code",
      "source": [
        "random_tensor_A = torch.rand(3,4)\n",
        "random_tensor_B = torch.rand(3,4)\n",
        "\n",
        "print(random_tensor_A)\n",
        "print(random_tensor_B)"
      ],
      "metadata": {
        "colab": {
          "base_uri": "https://localhost:8080/"
        },
        "id": "OunPbaoJZ6HY",
        "outputId": "4ecd3cf7-275e-4b13-eae6-0f1ab46e8ecf"
      },
      "execution_count": null,
      "outputs": [
        {
          "output_type": "stream",
          "name": "stdout",
          "text": [
            "tensor([[0.6161, 0.7583, 0.5907, 0.3219],\n",
            "        [0.7610, 0.7628, 0.6870, 0.4121],\n",
            "        [0.3676, 0.5535, 0.4117, 0.3510]])\n",
            "tensor([[0.8196, 0.9297, 0.4505, 0.3881],\n",
            "        [0.5073, 0.4701, 0.6202, 0.6401],\n",
            "        [0.0459, 0.3155, 0.9211, 0.6948]])\n"
          ]
        }
      ]
    },
    {
      "cell_type": "code",
      "source": [
        "# Reproducible\n",
        "import torch\n",
        "# Set random seed\n",
        "RANDOM_SEED = 42\n",
        "torch.manual_seed(RANDOM_SEED)\n",
        "random_tensor_C = torch.rand(3,4)\n",
        "\n",
        "#torch.manual_seed(RANDOM_SEED)\n",
        "random_tensor_D = torch.rand(3,4)\n",
        "\n",
        "print(random_tensor_C)\n",
        "print(random_tensor_D)"
      ],
      "metadata": {
        "colab": {
          "base_uri": "https://localhost:8080/"
        },
        "id": "a1HMNttKZtDW",
        "outputId": "e0fc69cf-7609-4b2c-96eb-cf3f536aff14"
      },
      "execution_count": null,
      "outputs": [
        {
          "output_type": "stream",
          "name": "stdout",
          "text": [
            "tensor([[0.8823, 0.9150, 0.3829, 0.9593],\n",
            "        [0.3904, 0.6009, 0.2566, 0.7936],\n",
            "        [0.9408, 0.1332, 0.9346, 0.5936]])\n",
            "tensor([[0.8694, 0.5677, 0.7411, 0.4294],\n",
            "        [0.8854, 0.5739, 0.2666, 0.6274],\n",
            "        [0.2696, 0.4414, 0.2969, 0.8317]])\n"
          ]
        }
      ]
    },
    {
      "cell_type": "code",
      "source": [
        "# Set random seed\n",
        "RANDOM_SEED = 42\n",
        "torch.manual_seed(RANDOM_SEED)\n",
        "random_tensor_C = torch.rand(3,4)\n",
        "\n",
        "#torch.manual_seed(RANDOM_SEED)\n",
        "random_tensor_D = torch.rand(3,4)\n",
        "\n",
        "print(random_tensor_C)\n",
        "print(random_tensor_D)"
      ],
      "metadata": {
        "colab": {
          "base_uri": "https://localhost:8080/"
        },
        "id": "Zmh-BC1XW9FO",
        "outputId": "67333b17-774b-40d7-ee5f-04a8fe03e68c"
      },
      "execution_count": null,
      "outputs": [
        {
          "output_type": "stream",
          "name": "stdout",
          "text": [
            "tensor([[0.8823, 0.9150, 0.3829, 0.9593],\n",
            "        [0.3904, 0.6009, 0.2566, 0.7936],\n",
            "        [0.9408, 0.1332, 0.9346, 0.5936]])\n",
            "tensor([[0.8694, 0.5677, 0.7411, 0.4294],\n",
            "        [0.8854, 0.5739, 0.2666, 0.6274],\n",
            "        [0.2696, 0.4414, 0.2969, 0.8317]])\n"
          ]
        }
      ]
    },
    {
      "cell_type": "markdown",
      "source": [
        "Investigate the random seed / how it works"
      ],
      "metadata": {
        "id": "mKxp1X59bn7e"
      }
    },
    {
      "cell_type": "markdown",
      "source": [
        "## 2. [Data Sets and DataLoaders](https://pytorch.org/tutorials/beginner/basics/data_tutorial.html#datasets-dataloaders)\n",
        "\n",
        "Code for processing data samples can get messy and hard to maintain; we ideally want our dataset code to be decoupled from our model training code for better readability and modularity. PyTorch provides two data primitives: torch.utils.data.DataLoader and torch.utils.data.Dataset that allow you to use pre-loaded datasets as well as your own data. Dataset stores the samples and their corresponding labels, and DataLoader wraps an iterable around the Dataset to enable easy access to the samples."
      ],
      "metadata": {
        "id": "fz5J9GVSAVnT"
      }
    },
    {
      "cell_type": "markdown",
      "source": [
        "##### Difference between torch_geometric.loader.DataLoader and torch.utils.data.DataLoader (answer by ChatGPT)"
      ],
      "metadata": {
        "id": "L92BGsE0B9Zk"
      }
    },
    {
      "cell_type": "markdown",
      "source": [
        "The main difference between torch_geometric.loader.DataLoader and torch.utils.data.DataLoader lies in their intended usage and how they handle data specific to graph structures, particularly for graph neural networks (GNNs). Let's break them down:\n",
        "\n",
        "1. torch_geometric.loader.DataLoader\n",
        "This DataLoader is part of the PyTorch Geometric library, which is specialized for handling graph data structures. It is specifically designed to load batches of graphs, which are typically represented as torch_geometric.data.Data objects.\n",
        "\n",
        "Key Features:\n",
        "Efficiently loads batches of graphs for graph neural network training.\n",
        "Supports features like mini-batching of multiple graphs, which is crucial for GNN training where you often deal with datasets composed of many small graphs (e.g., molecules, social networks).\n",
        "It understands the internal graph structure (nodes, edges, features, etc.) and can handle node and edge connectivity when creating batches.\n",
        "When mini-batching, it automatically handles the merging of node and edge features by combining graphs into a single large graph where nodes and edges are relabeled to avoid conflicts.\n",
        "Typically used when working with datasets like Planetoid, TUDataset, or QM9, where graphs of various sizes need to be processed in batches.\n",
        "2. torch.utils.data.DataLoader\n",
        "This is the generic DataLoader provided by PyTorch, and it is designed for handling general types of datasets (e.g., images, text, tabular data).\n",
        "\n",
        "Key Features:\n",
        "It works with any dataset that follows the torch.utils.data.Dataset interface, which can include tensors, images, or other arbitrary data types.\n",
        "It supports loading batches, shuffling, sampling, and other data-related operations that are typical in machine learning workflows.\n",
        "While powerful and flexible, it doesn't have built-in support for graph structures, so using it with graph data would require custom handling of node and edge connectivity when batching.\n",
        "Summary\n",
        "Use torch_geometric.loader.DataLoader when working with graph-structured data in PyTorch Geometric, as it simplifies batching and handling the complex structure of graphs.\n",
        "Use torch.utils.data.DataLoader for general-purpose data loading, like image, text, or numeric data."
      ],
      "metadata": {
        "id": "mI-_10clB74a"
      }
    },
    {
      "cell_type": "markdown",
      "source": [
        "#### 2.1 Importing MNIST DataSet"
      ],
      "metadata": {
        "id": "Yo1BxOcvDjF7"
      }
    },
    {
      "cell_type": "code",
      "source": [
        "import torch\n",
        "from torch.utils.data import Dataset\n",
        "from torchvision import datasets\n",
        "from torchvision.transforms import ToTensor\n",
        "import matplotlib.pyplot as plt\n",
        "\n",
        "\n",
        "training_data = datasets.FashionMNIST(\n",
        "    root=\"data\", # root is the path where the train/test data is stored\n",
        "    train=True, # train specifies training or test dataset\n",
        "    download=True, # download=True downloads the data from the internet if it’s not available at root\n",
        "    transform=ToTensor() # transform and target_transform specify the feature and label transformations\n",
        ")\n",
        "\n",
        "test_data = datasets.FashionMNIST(\n",
        "    root=\"data\",\n",
        "    train=False,\n",
        "    download=True,\n",
        "    transform=ToTensor()\n",
        ")"
      ],
      "metadata": {
        "colab": {
          "base_uri": "https://localhost:8080/"
        },
        "id": "ooZvxD96AY5t",
        "outputId": "f721c0f5-61db-443f-a676-57e948c0df4a"
      },
      "execution_count": null,
      "outputs": [
        {
          "output_type": "stream",
          "name": "stdout",
          "text": [
            "Downloading http://fashion-mnist.s3-website.eu-central-1.amazonaws.com/train-images-idx3-ubyte.gz\n",
            "Downloading http://fashion-mnist.s3-website.eu-central-1.amazonaws.com/train-images-idx3-ubyte.gz to data/FashionMNIST/raw/train-images-idx3-ubyte.gz\n"
          ]
        },
        {
          "output_type": "stream",
          "name": "stderr",
          "text": [
            "100%|██████████| 26421880/26421880 [00:01<00:00, 15932570.07it/s]\n"
          ]
        },
        {
          "output_type": "stream",
          "name": "stdout",
          "text": [
            "Extracting data/FashionMNIST/raw/train-images-idx3-ubyte.gz to data/FashionMNIST/raw\n",
            "\n",
            "Downloading http://fashion-mnist.s3-website.eu-central-1.amazonaws.com/train-labels-idx1-ubyte.gz\n",
            "Downloading http://fashion-mnist.s3-website.eu-central-1.amazonaws.com/train-labels-idx1-ubyte.gz to data/FashionMNIST/raw/train-labels-idx1-ubyte.gz\n"
          ]
        },
        {
          "output_type": "stream",
          "name": "stderr",
          "text": [
            "100%|██████████| 29515/29515 [00:00<00:00, 266313.18it/s]\n"
          ]
        },
        {
          "output_type": "stream",
          "name": "stdout",
          "text": [
            "Extracting data/FashionMNIST/raw/train-labels-idx1-ubyte.gz to data/FashionMNIST/raw\n",
            "\n",
            "Downloading http://fashion-mnist.s3-website.eu-central-1.amazonaws.com/t10k-images-idx3-ubyte.gz\n",
            "Downloading http://fashion-mnist.s3-website.eu-central-1.amazonaws.com/t10k-images-idx3-ubyte.gz to data/FashionMNIST/raw/t10k-images-idx3-ubyte.gz\n"
          ]
        },
        {
          "output_type": "stream",
          "name": "stderr",
          "text": [
            "100%|██████████| 4422102/4422102 [00:00<00:00, 5021208.20it/s]\n"
          ]
        },
        {
          "output_type": "stream",
          "name": "stdout",
          "text": [
            "Extracting data/FashionMNIST/raw/t10k-images-idx3-ubyte.gz to data/FashionMNIST/raw\n",
            "\n",
            "Downloading http://fashion-mnist.s3-website.eu-central-1.amazonaws.com/t10k-labels-idx1-ubyte.gz\n",
            "Downloading http://fashion-mnist.s3-website.eu-central-1.amazonaws.com/t10k-labels-idx1-ubyte.gz to data/FashionMNIST/raw/t10k-labels-idx1-ubyte.gz\n"
          ]
        },
        {
          "output_type": "stream",
          "name": "stderr",
          "text": [
            "100%|██████████| 5148/5148 [00:00<00:00, 4858748.20it/s]"
          ]
        },
        {
          "output_type": "stream",
          "name": "stdout",
          "text": [
            "Extracting data/FashionMNIST/raw/t10k-labels-idx1-ubyte.gz to data/FashionMNIST/raw\n",
            "\n"
          ]
        },
        {
          "output_type": "stream",
          "name": "stderr",
          "text": [
            "\n"
          ]
        }
      ]
    },
    {
      "cell_type": "markdown",
      "source": [
        "Iterating and Visualizing the Dataset\n",
        "\n",
        "We can index Datasets manually like a list: training_data[index]. We use matplotlib to visualize some samples in our training data.\n",
        "\n",
        "- size=(1,) indicates that a single random integer is generated. .item() converts the tensor of shape (1,) into a scalar integer.\n",
        "\n",
        "- training_data[sample_idx] accesses the dataset at sample_idx.\n",
        "Typically, training_data is a dataset object (such as from torchvision.datasets), where each element is a tuple of an image (img) and its label (label).\n",
        "\n",
        "-  labels_map[0] = \"T-shirt\"\n",
        "\n",
        "- img.squeeze(): Removes any singleton dimensions from the image tensor.\n",
        "Example: Converts a shape like (1, 28, 28) to (28, 28) if there's only one channel."
      ],
      "metadata": {
        "id": "QdXyeQ0JBJG6"
      }
    },
    {
      "cell_type": "code",
      "source": [
        "labels_map = {\n",
        "    0: \"T-Shirt\",\n",
        "    1: \"Trouser\",\n",
        "    2: \"Pullover\",\n",
        "    3: \"Dress\",\n",
        "    4: \"Coat\",\n",
        "    5: \"Sandal\",\n",
        "    6: \"Shirt\",\n",
        "    7: \"Sneaker\",\n",
        "    8: \"Bag\",\n",
        "    9: \"Ankle Boot\",\n",
        "}\n",
        "figure = plt.figure(figsize=(8, 8))\n",
        "cols, rows = 3, 3\n",
        "for i in range(1, cols * rows + 1):\n",
        "    sample_idx = torch.randint(len(training_data), size=(1,)).item() # generates a random integer between 0 and len(training_data) - 1 (i.e., the valid indices for the training_data dataset)\n",
        "    img, label = training_data[sample_idx]\n",
        "    figure.add_subplot(rows, cols, i)\n",
        "    plt.title(labels_map[label])\n",
        "    plt.axis(\"off\")\n",
        "    plt.imshow(img.squeeze(), cmap=\"gray\")\n",
        "plt.show()"
      ],
      "metadata": {
        "colab": {
          "base_uri": "https://localhost:8080/",
          "height": 675
        },
        "id": "Zp5B3uPNBEVw",
        "outputId": "ac6ab9af-5cb6-4c0b-8845-c1037e9d0431"
      },
      "execution_count": null,
      "outputs": [
        {
          "output_type": "display_data",
          "data": {
            "text/plain": [
              "<Figure size 800x800 with 9 Axes>"
            ],
            "image/png": "[encoded data removed]"
          },
          "metadata": {}
        }
      ]
    },
    {
      "cell_type": "markdown",
      "source": [
        "#### 2.2 Creating a custom DataSet\n",
        "\n",
        "A custom Dataset class must implement three functions: __init__, __len__, and __getitem__. Take a look at this implementation; the FashionMNIST images are stored in a directory img_dir, and their labels are stored separately in a CSV file annotations_file.\n",
        "\n",
        "\n",
        "The __init__ function is run once when instantiating the Dataset object. We initialize the directory containing the images, the annotations file, and both transforms (covered in more detail in the next section).\n"
      ],
      "metadata": {
        "id": "WUD_MK6pFrbF"
      }
    },
    {
      "cell_type": "code",
      "source": [
        "import os\n",
        "import pandas as pd\n",
        "from torchvision.io import read_image\n",
        "\n",
        "class CustomImageDataset(Dataset):\n",
        "    def __init__(self, annotations_file, img_dir, transform=None, target_transform=None):\n",
        "        self.img_labels = pd.read_csv(annotations_file)\n",
        "        self.img_dir = img_dir\n",
        "        self.transform = transform\n",
        "        self.target_transform = target_transform\n",
        "\n",
        "    def __len__(self):\n",
        "        return len(self.img_labels)\n",
        "\n",
        "    def __getitem__(self, idx):\n",
        "        img_path = os.path.join(self.img_dir, self.img_labels.iloc[idx, 0]) # Accesses the first column (index 0) of the img_labels DataFrame at row idx, which contains the image filename.\n",
        "        image = read_image(img_path) #  Loads the image from the file path (img_path) into memory.\n",
        "        label = self.img_labels.iloc[idx, 1] # Accesses the second column (index 1) of the img_labels DataFrame at row idx, which contains the label associated with the image.\n",
        "        if self.transform:\n",
        "            image = self.transform(image) # Applies any transformations to the image (e.g., resizing, normalization, augmentation)\n",
        "        if self.target_transform:\n",
        "            label = self.target_transform(label) # Applies transformations to the label if a target transform function is provided (useful if you need to modify the labels, such as one-hot encoding).\n",
        "        return image, label"
      ],
      "metadata": {
        "id": "BUHP7HWmFzYe"
      },
      "execution_count": null,
      "outputs": []
    },
    {
      "cell_type": "markdown",
      "source": [
        "The __len__ function returns the number of samples in our dataset.\n",
        "\n",
        "The __getitem__ function loads and returns a sample from the dataset at the given index idx. Based on the index, it identifies the image’s location on disk, converts that to a tensor using read_image, retrieves the corresponding label from the csv data in self.img_labels, calls the transform functions on them (if applicable), and returns the tensor image and corresponding label in a tuple.\n",
        "\n",
        "When you create a custom dataset using this class, the __getitem__ method is automatically called when you index the dataset. For example:\n",
        "\n",
        "```\n",
        "dataset = CustomImageDataset(annotations_file=\"labels.csv\", img_dir=\"images/\")\n",
        "image, label = dataset[0]  # This will call the __getitem__ method with idx=0\n",
        "```\n",
        "\n"
      ],
      "metadata": {
        "id": "MIwUcLvuGmZV"
      }
    },
    {
      "cell_type": "markdown",
      "source": [
        "#### 2.3 DataLoaders\n",
        "\n",
        "The Dataset retrieves our dataset’s features and labels one sample at a time. While training a model, we typically want to pass samples in “minibatches”, reshuffle the data at every epoch to reduce model overfitting, and use Python’s multiprocessing to speed up data retrieval.\n",
        "\n",
        "DataLoader is an iterable that abstracts this complexity for us in an easy API.\n",
        "\n",
        "DataLoader turns our dataset into a Python iterable. More specifically, we want to turn our data into batches (or mini-batches). Why ?\n",
        "1. More computationally efficient --> break it down to 32 images at a time (batch size of 32).\n",
        "2. It gives our neural network more chances to update its gradients per epoch."
      ],
      "metadata": {
        "id": "A9Djes9dJjup"
      }
    },
    {
      "cell_type": "code",
      "source": [
        "from torch.utils.data import DataLoader\n",
        "\n",
        "train_dataloader = DataLoader(training_data, batch_size=64, shuffle=True)\n",
        "test_dataloader = DataLoader(test_data, batch_size=64, shuffle=True)"
      ],
      "metadata": {
        "id": "Ebj3heL5JlPt"
      },
      "execution_count": null,
      "outputs": []
    },
    {
      "cell_type": "code",
      "source": [
        "# Display image and label.\n",
        "train_features, train_labels = next(iter(train_dataloader)) #  Purpose: Retrieves the next batch from the iterator (in this case, the first batch).\n",
        "print(f\"Feature batch shape: {train_features.size()}\")\n",
        "print(f\"Labels batch shape: {train_labels.size()}\")\n",
        "img = train_features[0].squeeze()\n",
        "label = train_labels[0]\n",
        "plt.imshow(img, cmap=\"gray\")\n",
        "plt.show()\n",
        "print(f\"Label: {label}\")"
      ],
      "metadata": {
        "colab": {
          "base_uri": "https://localhost:8080/",
          "height": 484
        },
        "id": "tQVGX3slJwGH",
        "outputId": "d3c95f2c-2567-4992-a601-222309357782"
      },
      "execution_count": null,
      "outputs": [
        {
          "output_type": "stream",
          "name": "stdout",
          "text": [
            "Feature batch shape: torch.Size([64, 1, 28, 28])\n",
            "Labels batch shape: torch.Size([64])\n"
          ]
        },
        {
          "output_type": "display_data",
          "data": {
            "text/plain": [
              "<Figure size 640x480 with 1 Axes>"
            ],
            "image/png": "[encoded data removed]"
          },
          "metadata": {}
        },
        {
          "output_type": "stream",
          "name": "stdout",
          "text": [
            "Label: 9\n"
          ]
        }
      ]
    },
    {
      "cell_type": "markdown",
      "source": [
        "- train_features: This will contain a tensor of shape (64, 1, 28, 28) — 64 images, each with 1 channel (grayscale), and 28x28 pixels.\n",
        "- train_labels: This will be a tensor of shape (64,) containing the labels (class IDs) for those 64 images.\n",
        "- iter(train_dataloader) produces an iterator that allows you to retrieve the batches one by one.\n",
        "- next(iter(train_dataloader)) Since we just created the iterator with iter(train_dataloader), calling next() will give us the first batch of data (i.e., the first 64 images and their labels)."
      ],
      "metadata": {
        "id": "WP0JUZf0OZiq"
      }
    },
    {
      "cell_type": "markdown",
      "source": [
        "#### 2.4 Transforms\n",
        "\n",
        "Data does not always come in its final processed form that is required for training machine learning algorithms. We use transforms to perform some manipulation of the data and make it suitable for training.\n",
        "\n",
        "All TorchVision datasets have two parameters -transform to modify the features and target_transform to modify the labels - that accept callables containing the transformation logic. The torchvision.transforms module offers several commonly-used transforms out of the box.\n",
        "\n",
        "The FashionMNIST features are in PIL Image format, and the labels are integers. For training, we need the features as normalized tensors, and the labels as one-hot encoded tensors. To make these transformations, we use ToTensor and Lambda."
      ],
      "metadata": {
        "id": "3cbkgqJYPltA"
      }
    },
    {
      "cell_type": "markdown",
      "source": [
        "ToTensor()\n",
        "\n",
        "ToTensor() converts a PIL image or NumPy ndarray into a FloatTensor. and scales the image’s pixel intensity values in the range [0., 1.]"
      ],
      "metadata": {
        "id": "lhyMoKn_P5e4"
      }
    },
    {
      "cell_type": "code",
      "source": [
        "import torch\n",
        "from torchvision import datasets\n",
        "from torchvision.transforms import ToTensor, Lambda\n",
        "\n",
        "ds = datasets.FashionMNIST(\n",
        "    root=\"data\",\n",
        "    train=True,\n",
        "    download=True,\n",
        "    transform=ToTensor(),\n",
        "    target_transform=Lambda(lambda y: torch.zeros(10, dtype=torch.float).scatter_(0, torch.tensor(y), value=1))\n",
        ")"
      ],
      "metadata": {
        "id": "_lwECW6dPq0j"
      },
      "execution_count": null,
      "outputs": []
    },
    {
      "cell_type": "markdown",
      "source": [
        "Lambda()\n",
        "\n",
        "Lambda transforms apply any user-defined lambda function. Here, we define a function to turn the integer into a one-hot encoded tensor. It first creates a zero tensor of size 10 (the number of labels in our dataset) and calls scatter_ which assigns a value=1 on the index as given by the label y."
      ],
      "metadata": {
        "id": "ChLOt__JP98j"
      }
    },
    {
      "cell_type": "code",
      "source": [
        "target_transform = Lambda(lambda y: torch.zeros(\n",
        "    10, dtype=torch.float).scatter_(dim=0, index=torch.tensor(y), value=1))"
      ],
      "metadata": {
        "id": "rL80HVzTPtZC"
      },
      "execution_count": null,
      "outputs": []
    },
    {
      "cell_type": "markdown",
      "source": [
        "## 3. Neural Networks"
      ],
      "metadata": {
        "id": "KAKsMRTqbpck"
      }
    },
    {
      "cell_type": "markdown",
      "source": [
        "### 3.1 Basic NN"
      ],
      "metadata": {
        "id": "ZNULhEhRQ-QJ"
      }
    },
    {
      "cell_type": "code",
      "source": [
        "import os\n",
        "import torch\n",
        "from torch import nn\n",
        "from torch.utils.data import DataLoader\n",
        "from torchvision import datasets, transforms"
      ],
      "metadata": {
        "id": "R46EDTw-RBF7"
      },
      "execution_count": null,
      "outputs": []
    },
    {
      "cell_type": "markdown",
      "source": [
        "We want to be able to train our model on a hardware accelerator like the GPU or MPS, if available. Let’s check to see if torch.cuda or torch.backends.mps are available, otherwise we use the CPU."
      ],
      "metadata": {
        "id": "tdT5S3TkRxEq"
      }
    },
    {
      "cell_type": "code",
      "source": [
        "device = (\n",
        "    \"cuda\"\n",
        "    if torch.cuda.is_available()\n",
        "    else \"mps\"\n",
        "    if torch.backends.mps.is_available()\n",
        "    else \"cpu\"\n",
        ")\n",
        "print(f\"Using {device} device\")"
      ],
      "metadata": {
        "colab": {
          "base_uri": "https://localhost:8080/"
        },
        "id": "MUQ8V5LPRufc",
        "outputId": "12059fee-5ee2-4a7c-c48d-f6fd4eea2d33"
      },
      "execution_count": null,
      "outputs": [
        {
          "output_type": "stream",
          "name": "stdout",
          "text": [
            "Using cuda device\n"
          ]
        }
      ]
    },
    {
      "cell_type": "markdown",
      "source": [
        "We define our neural network by subclassing nn.Module, and initialize the neural network layers in __init__. Every nn.Module subclass implements the operations on input data in the forward method."
      ],
      "metadata": {
        "id": "EnPxzJISR9VB"
      }
    },
    {
      "cell_type": "code",
      "source": [
        "class NeuralNetwork(nn.Module):\n",
        "    def __init__(self):\n",
        "        super().__init__()\n",
        "        self.flatten = nn.Flatten()\n",
        "        self.linear_relu_stack = nn.Sequential(\n",
        "            nn.Linear(28*28, 512),\n",
        "            nn.ReLU(),\n",
        "            nn.Linear(512, 512),\n",
        "            nn.ReLU(),\n",
        "            nn.Linear(512, 10),\n",
        "        )\n",
        "\n",
        "    def forward(self, x):\n",
        "        x = self.flatten(x)\n",
        "        logits = self.linear_relu_stack(x)\n",
        "        return logits"
      ],
      "metadata": {
        "id": "GG1WR8NrR8sN"
      },
      "execution_count": null,
      "outputs": []
    },
    {
      "cell_type": "markdown",
      "source": [
        ".to(device) : Moves the model's parameters (i.e., the weights and biases) to the specified hardware device, either a CPU or a GPU (if available)."
      ],
      "metadata": {
        "id": "5TaWYtcZYTmP"
      }
    },
    {
      "cell_type": "code",
      "source": [
        "model = NeuralNetwork().to(device)\n",
        "print(model)"
      ],
      "metadata": {
        "colab": {
          "base_uri": "https://localhost:8080/"
        },
        "id": "MXyoXc1DSEkl",
        "outputId": "acbd06d8-2183-4b3e-a56f-d3a03ee8a8bb"
      },
      "execution_count": null,
      "outputs": [
        {
          "output_type": "stream",
          "name": "stdout",
          "text": [
            "NeuralNetwork(\n",
            "  (flatten): Flatten(start_dim=1, end_dim=-1)\n",
            "  (linear_relu_stack): Sequential(\n",
            "    (0): Linear(in_features=784, out_features=512, bias=True)\n",
            "    (1): ReLU()\n",
            "    (2): Linear(in_features=512, out_features=512, bias=True)\n",
            "    (3): ReLU()\n",
            "    (4): Linear(in_features=512, out_features=10, bias=True)\n",
            "  )\n",
            ")\n"
          ]
        }
      ]
    },
    {
      "cell_type": "markdown",
      "source": [
        "To use the model, we pass it the input data. This executes the model’s forward, along with some background operations. Do not call model.forward() directly!\n",
        "\n",
        "Calling the model on the input returns a 2-dimensional tensor with dim=0 corresponding to each output of 10 raw predicted values for each class, and dim=1 corresponding to the individual values of each output. We get the prediction probabilities by passing it through an instance of the nn.Softmax module.\n",
        "\n",
        "You’ll also need to move any input data (e.g., images and labels) to the same device as the model before passing it through the network."
      ],
      "metadata": {
        "id": "5EwGeXQWSLUm"
      }
    },
    {
      "cell_type": "code",
      "source": [
        "X = torch.rand(1, 28, 28, device=device)\n",
        "logits = model(X)\n",
        "pred_probab = nn.Softmax(dim=1)(logits)\n",
        "y_pred = pred_probab.argmax(1)\n",
        "print(f\"Predicted class: {y_pred}\")"
      ],
      "metadata": {
        "colab": {
          "base_uri": "https://localhost:8080/"
        },
        "id": "hhbDuWYxSE5s",
        "outputId": "b9c7236a-5ef1-4a6d-9daf-68fd90eb71ab"
      },
      "execution_count": null,
      "outputs": [
        {
          "output_type": "stream",
          "name": "stdout",
          "text": [
            "Predicted class: tensor([9], device='cuda:0')\n"
          ]
        }
      ]
    },
    {
      "cell_type": "markdown",
      "source": [
        "Breakdown of the elements"
      ],
      "metadata": {
        "id": "AxenwUZQUkKC"
      }
    },
    {
      "cell_type": "code",
      "source": [
        "input_image = torch.rand(3,28,28)\n",
        "print(input_image.size())"
      ],
      "metadata": {
        "colab": {
          "base_uri": "https://localhost:8080/"
        },
        "id": "veDxEUQlSPzc",
        "outputId": "065d812b-df51-47c2-ca03-c85a3b51bf58"
      },
      "execution_count": null,
      "outputs": [
        {
          "output_type": "stream",
          "name": "stdout",
          "text": [
            "torch.Size([3, 28, 28])\n"
          ]
        }
      ]
    },
    {
      "cell_type": "markdown",
      "source": [
        "We initialize the nn.Flatten layer to convert each 2D 28x28 image into a contiguous array of 784 pixel values ( the minibatch dimension (at dim=0) is maintained)."
      ],
      "metadata": {
        "id": "xQKe2yPyUphu"
      }
    },
    {
      "cell_type": "code",
      "source": [
        "flatten = nn.Flatten()\n",
        "flat_image = flatten(input_image)\n",
        "print(flat_image.size())"
      ],
      "metadata": {
        "colab": {
          "base_uri": "https://localhost:8080/"
        },
        "id": "FyCTuopVUmxy",
        "outputId": "96baba1c-f830-4983-ab29-493fd32e06e5"
      },
      "execution_count": null,
      "outputs": [
        {
          "output_type": "stream",
          "name": "stdout",
          "text": [
            "torch.Size([3, 784])\n"
          ]
        }
      ]
    },
    {
      "cell_type": "markdown",
      "source": [
        "The linear layer is a module that applies a linear transformation on the input using its stored weights and biases."
      ],
      "metadata": {
        "id": "7UEmni1HU6-S"
      }
    },
    {
      "cell_type": "code",
      "source": [
        "layer1 = nn.Linear(in_features=28*28, out_features=20)\n",
        "hidden1 = layer1(flat_image)\n",
        "print(hidden1.size())"
      ],
      "metadata": {
        "colab": {
          "base_uri": "https://localhost:8080/"
        },
        "id": "ts_KtGBkU8px",
        "outputId": "917b3198-26cd-429e-f7d4-89bbdb67e8d3"
      },
      "execution_count": null,
      "outputs": [
        {
          "output_type": "stream",
          "name": "stdout",
          "text": [
            "torch.Size([3, 20])\n"
          ]
        }
      ]
    },
    {
      "cell_type": "markdown",
      "source": [
        "Non-linear activations are what create the complex mappings between the model’s inputs and outputs. They are applied after linear transformations to introduce nonlinearity, helping neural networks learn a wide variety of phenomena.\n",
        "\n",
        "In this model, we use nn.ReLU between our linear layers, but there’s other activations to introduce non-linearity in your model.\n",
        "\n",
        "ReLU : max(x,0)"
      ],
      "metadata": {
        "id": "hIHKnw-qVOX2"
      }
    },
    {
      "cell_type": "code",
      "source": [
        "print(f\"Before ReLU: {hidden1}\\n\\n\")\n",
        "hidden1 = nn.ReLU()(hidden1)\n",
        "print(f\"After ReLU: {hidden1}\")"
      ],
      "metadata": {
        "colab": {
          "base_uri": "https://localhost:8080/"
        },
        "id": "870-dVAmU_ST",
        "outputId": "04a422a1-eaa8-470c-df40-41bf9f98376b"
      },
      "execution_count": null,
      "outputs": [
        {
          "output_type": "stream",
          "name": "stdout",
          "text": [
            "Before ReLU: tensor([[-0.4208,  0.0905, -0.0474,  0.1398, -0.0814, -0.0970,  0.3283,  0.2249,\n",
            "         -0.0301,  0.3358,  0.2520,  0.4348,  0.4176, -0.2684, -0.3173, -0.0727,\n",
            "          0.5661, -0.3005, -0.1588, -0.4763],\n",
            "        [-0.1345,  0.4426, -0.1442,  0.0709, -0.0269, -0.2908,  0.6845,  0.0092,\n",
            "         -0.0335, -0.0664,  0.0018,  0.6956,  0.4585, -0.2912, -0.2314, -0.2167,\n",
            "          0.1041, -0.1605, -0.7203, -0.4935],\n",
            "        [ 0.2520,  0.1374,  0.1667,  0.0203,  0.0310, -0.0081,  0.6343,  0.0926,\n",
            "          0.1515, -0.3364,  0.4892,  0.6402,  0.4768, -0.2245, -0.4404, -0.0885,\n",
            "          0.7504, -0.2472, -0.2265, -0.6912]], grad_fn=<AddmmBackward0>)\n",
            "\n",
            "\n",
            "After ReLU: tensor([[0.0000, 0.0905, 0.0000, 0.1398, 0.0000, 0.0000, 0.3283, 0.2249, 0.0000,\n",
            "         0.3358, 0.2520, 0.4348, 0.4176, 0.0000, 0.0000, 0.0000, 0.5661, 0.0000,\n",
            "         0.0000, 0.0000],\n",
            "        [0.0000, 0.4426, 0.0000, 0.0709, 0.0000, 0.0000, 0.6845, 0.0092, 0.0000,\n",
            "         0.0000, 0.0018, 0.6956, 0.4585, 0.0000, 0.0000, 0.0000, 0.1041, 0.0000,\n",
            "         0.0000, 0.0000],\n",
            "        [0.2520, 0.1374, 0.1667, 0.0203, 0.0310, 0.0000, 0.6343, 0.0926, 0.1515,\n",
            "         0.0000, 0.4892, 0.6402, 0.4768, 0.0000, 0.0000, 0.0000, 0.7504, 0.0000,\n",
            "         0.0000, 0.0000]], grad_fn=<ReluBackward0>)\n"
          ]
        }
      ]
    },
    {
      "cell_type": "markdown",
      "source": [
        "nn.Sequential is an ordered container of modules. The data is passed through all the modules in the same order as defined. You can use sequential containers to put together a quick network like seq_modules."
      ],
      "metadata": {
        "id": "DN6GWXyEVYnp"
      }
    },
    {
      "cell_type": "code",
      "source": [
        "seq_modules = nn.Sequential(\n",
        "    flatten,\n",
        "    layer1,\n",
        "    nn.ReLU(),\n",
        "    nn.Linear(20, 10)\n",
        ")\n",
        "input_image = torch.rand(3,28,28)\n",
        "logits = seq_modules(input_image)"
      ],
      "metadata": {
        "id": "pKGFHNZpVZA5"
      },
      "execution_count": null,
      "outputs": []
    },
    {
      "cell_type": "markdown",
      "source": [
        "The output layer produces logits, which are raw scores for each class.\n",
        "\n",
        "Logits to Probabilities: To convert logits into probabilities, we apply a function like softmax (for multi-class classification) or sigmoid (for binary classification):\n",
        "\n",
        "- Softmax: Converts logits into probabilities by normalizing them so that they sum to 1.\n",
        "- Sigmoid: Converts a single logit value into a probability between 0 and 1."
      ],
      "metadata": {
        "id": "CmJsib9eVocE"
      }
    },
    {
      "cell_type": "code",
      "source": [
        "softmax = nn.Softmax(dim=1)\n",
        "pred_probab = softmax(logits)"
      ],
      "metadata": {
        "id": "EoEf5HRSVsVq"
      },
      "execution_count": null,
      "outputs": []
    },
    {
      "cell_type": "markdown",
      "source": [
        "Many layers inside a neural network are parameterized, i.e. have associated weights and biases that are optimized during training. Subclassing nn.Module automatically tracks all fields defined inside your model object, and makes all parameters accessible using your model’s parameters() or named_parameters() methods."
      ],
      "metadata": {
        "id": "PjWsncFJV1zo"
      }
    },
    {
      "cell_type": "code",
      "source": [
        "print(f\"Model structure: {model}\\n\\n\")\n",
        "\n",
        "for name, param in model.named_parameters():\n",
        "    print(f\"Layer: {name} | Size: {param.size()} | Values : {param[:2]} \\n\")"
      ],
      "metadata": {
        "colab": {
          "base_uri": "https://localhost:8080/"
        },
        "id": "a1tUk8jKV2N8",
        "outputId": "9aa4d11e-3c43-4113-f64f-be4c62f8592d"
      },
      "execution_count": null,
      "outputs": [
        {
          "output_type": "stream",
          "name": "stdout",
          "text": [
            "Model structure: NeuralNetwork(\n",
            "  (flatten): Flatten(start_dim=1, end_dim=-1)\n",
            "  (linear_relu_stack): Sequential(\n",
            "    (0): Linear(in_features=784, out_features=512, bias=True)\n",
            "    (1): ReLU()\n",
            "    (2): Linear(in_features=512, out_features=512, bias=True)\n",
            "    (3): ReLU()\n",
            "    (4): Linear(in_features=512, out_features=10, bias=True)\n",
            "  )\n",
            ")\n",
            "\n",
            "\n",
            "Layer: linear_relu_stack.0.weight | Size: torch.Size([512, 784]) | Values : tensor([[ 0.0317,  0.0173, -0.0162,  ..., -0.0158,  0.0334,  0.0196],\n",
            "        [ 0.0296,  0.0314, -0.0140,  ...,  0.0228,  0.0175, -0.0110]],\n",
            "       device='cuda:0', grad_fn=<SliceBackward0>) \n",
            "\n",
            "Layer: linear_relu_stack.0.bias | Size: torch.Size([512]) | Values : tensor([-0.0124, -0.0056], device='cuda:0', grad_fn=<SliceBackward0>) \n",
            "\n",
            "Layer: linear_relu_stack.2.weight | Size: torch.Size([512, 512]) | Values : tensor([[ 0.0416, -0.0034, -0.0222,  ..., -0.0151,  0.0351, -0.0066],\n",
            "        [ 0.0170, -0.0006,  0.0402,  ...,  0.0023, -0.0297,  0.0169]],\n",
            "       device='cuda:0', grad_fn=<SliceBackward0>) \n",
            "\n",
            "Layer: linear_relu_stack.2.bias | Size: torch.Size([512]) | Values : tensor([ 0.0417, -0.0385], device='cuda:0', grad_fn=<SliceBackward0>) \n",
            "\n",
            "Layer: linear_relu_stack.4.weight | Size: torch.Size([10, 512]) | Values : tensor([[ 0.0260, -0.0267, -0.0075,  ..., -0.0046,  0.0186, -0.0283],\n",
            "        [-0.0309, -0.0214, -0.0174,  ..., -0.0243,  0.0021,  0.0342]],\n",
            "       device='cuda:0', grad_fn=<SliceBackward0>) \n",
            "\n",
            "Layer: linear_relu_stack.4.bias | Size: torch.Size([10]) | Values : tensor([0.0235, 0.0053], device='cuda:0', grad_fn=<SliceBackward0>) \n",
            "\n"
          ]
        }
      ]
    },
    {
      "cell_type": "markdown",
      "source": [
        "#### 3.1.1 Automatic differentiation\n",
        "\n",
        "When training neural networks, the most frequently used algorithm is back propagation. In this algorithm, parameters (model weights) are adjusted according to the gradient of the loss function with respect to the given parameter.\n",
        "\n",
        "1. Forward pass: Calculate predictions.\n",
        "2. Calculate loss: Measure how far off the predictions are.\n",
        "3. Backpropagate: Calculate the gradients of the loss with respect to the model's parameters using the chain rule.\n",
        "4. Update weights: Adjust the parameters using gradient descent to reduce the loss.\n",
        "5. Repeat: Perform this process over many iterations to train the model.\n",
        "\n",
        "To compute those gradients, PyTorch has a built-in differentiation engine called torch.autograd. It supports automatic computation of gradient for any computational graph.\n",
        "\n",
        "Consider the simplest one-layer neural network, with input x, parameters w and b, and some loss function. It can be defined in PyTorch in the following manner:"
      ],
      "metadata": {
        "id": "omX-IpzrbF7L"
      }
    },
    {
      "cell_type": "code",
      "source": [
        "import torch\n",
        "\n",
        "x = torch.ones(5)  # input tensor\n",
        "y = torch.zeros(3)  # expected output\n",
        "w = torch.randn(5, 3, requires_grad=True)\n",
        "b = torch.randn(3, requires_grad=True)\n",
        "z = torch.matmul(x, w)+b\n",
        "loss = torch.nn.functional.binary_cross_entropy_with_logits(z, y)"
      ],
      "metadata": {
        "id": "Orp7WFTebFjQ"
      },
      "execution_count": 1,
      "outputs": []
    },
    {
      "cell_type": "markdown",
      "source": [
        "1. **torch.nn.functional.binary_cross_entropy_with_logits():**\n",
        "\n",
        "\n",
        "- This function is a numerically stable version of binary cross-entropy that directly accepts logits as inputs.\n",
        "\n",
        "- It applies the sigmoid function to the logits z, converting them into probabilities, and then computes the binary cross-entropy between those probabilities and the target y.\n",
        "\n",
        "z: The logits (raw predictions) from the model.\n",
        "\n",
        "y: The true labels (in this case, the tensor y contains values like 0s and 1s).\n",
        "\n",
        "\n",
        "2. **requires_grad=True**\n",
        "\n",
        "In PyTorch, the requires_grad=True argument is used to tell the framework that you want to compute and track gradients for a particular tensor during the backpropagation process. This is essential for training neural networks, as gradients are used to update the model's parameters (weights and biases) during optimization.\n",
        "\n",
        "What Does requires_grad=True Do?\n",
        "When you set requires_grad=True for a tensor, PyTorch will:\n",
        "\n",
        "Track all operations on the tensor:\n",
        "\n",
        "Every operation you perform on this tensor (e.g., addition, multiplication) is recorded in a computational graph. This graph keeps track of how each tensor was computed, so that during backpropagation, PyTorch can calculate the derivatives (gradients) of the final loss with respect to each tensor involved in the computation.\n",
        "Compute gradients during backpropagation:\n",
        "\n",
        "When you call loss.backward(), PyTorch will automatically compute the gradients of the loss with respect to each tensor that has requires_grad=True. These gradients are stored in the .grad attribute of the tensor.\n",
        "These gradients are essential for updating the weights during optimization (e.g., using Stochastic Gradient Descent or other optimizers).\n",
        "\n",
        "\n",
        "You can set the value of requires_grad when creating a tensor, or later by using x.requires_grad_(True) method."
      ],
      "metadata": {
        "id": "FiQg0sk6lXjP"
      }
    },
    {
      "cell_type": "code",
      "source": [
        "print(f\"Gradient function for z = {z.grad_fn}\")\n",
        "print(f\"Gradient function for loss = {loss.grad_fn}\")"
      ],
      "metadata": {
        "colab": {
          "base_uri": "https://localhost:8080/"
        },
        "id": "xf4R-zhYj6ZB",
        "outputId": "7f213077-3ba4-4a3c-c056-58f5301a8ab1"
      },
      "execution_count": 2,
      "outputs": [
        {
          "output_type": "stream",
          "name": "stdout",
          "text": [
            "Gradient function for z = <AddBackward0 object at 0x79aa937215a0>\n",
            "Gradient function for loss = <BinaryCrossEntropyWithLogitsBackward0 object at 0x79aa93721600>\n"
          ]
        }
      ]
    },
    {
      "cell_type": "markdown",
      "source": [
        "#### 3.1.2 Computing Gradients\n",
        "\n",
        "To optimize weights of parameters in the neural network, we need to compute the derivatives of our loss function with respect to parameters, namely, we need and under some fixed values of x and y. To compute those derivatives, we call loss.backward(), and then retrieve the values from w.grad and b.grad."
      ],
      "metadata": {
        "id": "0O334dqRmsLI"
      }
    },
    {
      "cell_type": "code",
      "source": [
        "loss.backward()\n",
        "print(w.grad)\n",
        "print(b.grad)"
      ],
      "metadata": {
        "colab": {
          "base_uri": "https://localhost:8080/"
        },
        "id": "sJUpWlcnm7Ps",
        "outputId": "5316efee-aedb-4cd8-d216-7e54ce044ec4"
      },
      "execution_count": 3,
      "outputs": [
        {
          "output_type": "stream",
          "name": "stdout",
          "text": [
            "tensor([[0.2145, 0.0848, 0.3313],\n",
            "        [0.2145, 0.0848, 0.3313],\n",
            "        [0.2145, 0.0848, 0.3313],\n",
            "        [0.2145, 0.0848, 0.3313],\n",
            "        [0.2145, 0.0848, 0.3313]])\n",
            "tensor([0.2145, 0.0848, 0.3313])\n"
          ]
        }
      ]
    },
    {
      "cell_type": "markdown",
      "source": [
        "Disabling gradient computing\n",
        "\n",
        "By default, all tensors with requires_grad=True are tracking their computational history and support gradient computation. However, there are some cases when we do not need to do that, for example, when we have trained the model and just want to apply it to some input data, i.e. we only want to do forward computations through the network. We can stop tracking computations by surrounding our computation code with torch.no_grad() block:"
      ],
      "metadata": {
        "id": "NcNK5KeFojIW"
      }
    },
    {
      "cell_type": "code",
      "source": [
        "z = torch.matmul(x, w)+b\n",
        "print(z.requires_grad)\n",
        "\n",
        "with torch.no_grad():\n",
        "    z = torch.matmul(x, w)+b\n",
        "print(z.requires_grad)"
      ],
      "metadata": {
        "colab": {
          "base_uri": "https://localhost:8080/"
        },
        "id": "KlOp6MJFonIo",
        "outputId": "b6ec75fa-9c59-41e0-ed6f-e34b545a4d26"
      },
      "execution_count": 4,
      "outputs": [
        {
          "output_type": "stream",
          "name": "stdout",
          "text": [
            "True\n",
            "False\n"
          ]
        }
      ]
    },
    {
      "cell_type": "markdown",
      "source": [
        "Another way to achieve the same result is to use the detach() method on the tensor:"
      ],
      "metadata": {
        "id": "FN1QpnqBoxXC"
      }
    },
    {
      "cell_type": "code",
      "source": [
        "z = torch.matmul(x, w)+b\n",
        "z_det = z.detach()\n",
        "print(z_det.requires_grad)"
      ],
      "metadata": {
        "colab": {
          "base_uri": "https://localhost:8080/"
        },
        "id": "xz-WAm-kow66",
        "outputId": "ed704893-53bd-4f6d-d90d-8bd7df7911ea"
      },
      "execution_count": 5,
      "outputs": [
        {
          "output_type": "stream",
          "name": "stdout",
          "text": [
            "False\n"
          ]
        }
      ]
    },
    {
      "cell_type": "markdown",
      "source": [
        "There are reasons you might want to disable gradient tracking:\n",
        "To mark some parameters in your neural network as frozen parameters.\n",
        "\n",
        "To speed up computations when you are only doing forward pass, because computations on tensors that do not track gradients would be more efficient."
      ],
      "metadata": {
        "id": "Qm9NpmoKo1nb"
      }
    },
    {
      "cell_type": "markdown",
      "source": [
        "#### 3.1.3 Optimizing Model Parameters\n",
        "\n",
        "Now that we have a model and data it’s time to train, validate and test our model by optimizing its parameters on our data. Training a model is an iterative process; in each iteration the model makes a guess about the output, calculates the error in its guess (loss), collects the derivatives of the error with respect to its parameters (as we saw in the previous section), and optimizes these parameters using gradient descent. For a more detailed walkthrough of this process, check out this video on backpropagation from 3Blue1Brown."
      ],
      "metadata": {
        "id": "mfWpST2UqLqd"
      }
    },
    {
      "cell_type": "code",
      "source": [
        "import torch\n",
        "from torch import nn\n",
        "from torch.utils.data import DataLoader\n",
        "from torchvision import datasets\n",
        "from torchvision.transforms import ToTensor\n",
        "\n",
        "training_data = datasets.FashionMNIST(\n",
        "    root=\"data\",\n",
        "    train=True,\n",
        "    download=True,\n",
        "    transform=ToTensor()\n",
        ")\n",
        "\n",
        "test_data = datasets.FashionMNIST(\n",
        "    root=\"data\",\n",
        "    train=False,\n",
        "    download=True,\n",
        "    transform=ToTensor()\n",
        ")\n",
        "\n",
        "train_dataloader = DataLoader(training_data, batch_size=64)\n",
        "test_dataloader = DataLoader(test_data, batch_size=64)\n",
        "\n",
        "class NeuralNetwork(nn.Module):\n",
        "    def __init__(self):\n",
        "        super().__init__()\n",
        "        self.flatten = nn.Flatten()\n",
        "        self.linear_relu_stack = nn.Sequential(\n",
        "            nn.Linear(28*28, 512),\n",
        "            nn.ReLU(),\n",
        "            nn.Linear(512, 512),\n",
        "            nn.ReLU(),\n",
        "            nn.Linear(512, 10),\n",
        "        )\n",
        "\n",
        "    def forward(self, x):\n",
        "        x = self.flatten(x)\n",
        "        logits = self.linear_relu_stack(x)\n",
        "        return logits\n",
        "\n",
        "model = NeuralNetwork()"
      ],
      "metadata": {
        "colab": {
          "base_uri": "https://localhost:8080/"
        },
        "id": "22fZYJjxqbjo",
        "outputId": "fc238c97-107a-4cb6-94b3-7a6f013e9a46"
      },
      "execution_count": 2,
      "outputs": [
        {
          "output_type": "stream",
          "name": "stdout",
          "text": [
            "Downloading http://fashion-mnist.s3-website.eu-central-1.amazonaws.com/train-images-idx3-ubyte.gz\n",
            "Downloading http://fashion-mnist.s3-website.eu-central-1.amazonaws.com/train-images-idx3-ubyte.gz to data/FashionMNIST/raw/train-images-idx3-ubyte.gz\n"
          ]
        },
        {
          "output_type": "stream",
          "name": "stderr",
          "text": [
            "100%|██████████| 26421880/26421880 [00:01<00:00, 18871250.04it/s]\n"
          ]
        },
        {
          "output_type": "stream",
          "name": "stdout",
          "text": [
            "Extracting data/FashionMNIST/raw/train-images-idx3-ubyte.gz to data/FashionMNIST/raw\n",
            "\n",
            "Downloading http://fashion-mnist.s3-website.eu-central-1.amazonaws.com/train-labels-idx1-ubyte.gz\n",
            "Downloading http://fashion-mnist.s3-website.eu-central-1.amazonaws.com/train-labels-idx1-ubyte.gz to data/FashionMNIST/raw/train-labels-idx1-ubyte.gz\n"
          ]
        },
        {
          "output_type": "stream",
          "name": "stderr",
          "text": [
            "100%|██████████| 29515/29515 [00:00<00:00, 302947.33it/s]\n"
          ]
        },
        {
          "output_type": "stream",
          "name": "stdout",
          "text": [
            "Extracting data/FashionMNIST/raw/train-labels-idx1-ubyte.gz to data/FashionMNIST/raw\n",
            "\n",
            "Downloading http://fashion-mnist.s3-website.eu-central-1.amazonaws.com/t10k-images-idx3-ubyte.gz\n",
            "Downloading http://fashion-mnist.s3-website.eu-central-1.amazonaws.com/t10k-images-idx3-ubyte.gz to data/FashionMNIST/raw/t10k-images-idx3-ubyte.gz\n"
          ]
        },
        {
          "output_type": "stream",
          "name": "stderr",
          "text": [
            "100%|██████████| 4422102/4422102 [00:00<00:00, 5486444.87it/s]\n"
          ]
        },
        {
          "output_type": "stream",
          "name": "stdout",
          "text": [
            "Extracting data/FashionMNIST/raw/t10k-images-idx3-ubyte.gz to data/FashionMNIST/raw\n",
            "\n",
            "Downloading http://fashion-mnist.s3-website.eu-central-1.amazonaws.com/t10k-labels-idx1-ubyte.gz\n",
            "Downloading http://fashion-mnist.s3-website.eu-central-1.amazonaws.com/t10k-labels-idx1-ubyte.gz to data/FashionMNIST/raw/t10k-labels-idx1-ubyte.gz\n"
          ]
        },
        {
          "output_type": "stream",
          "name": "stderr",
          "text": [
            "100%|██████████| 5148/5148 [00:00<00:00, 17315378.50it/s]"
          ]
        },
        {
          "output_type": "stream",
          "name": "stdout",
          "text": [
            "Extracting data/FashionMNIST/raw/t10k-labels-idx1-ubyte.gz to data/FashionMNIST/raw\n",
            "\n"
          ]
        },
        {
          "output_type": "stream",
          "name": "stderr",
          "text": [
            "\n"
          ]
        }
      ]
    },
    {
      "cell_type": "markdown",
      "source": [
        "#### Hyperparameters\n",
        "\n",
        "Hyperparameters are adjustable parameters that let you control the model optimization process. Different hyperparameter values can impact model training and convergence rates (read more about hyperparameter tuning)\n",
        "\n",
        "We define the following hyperparameters for training:\n",
        "- Number of Epochs - the number times to iterate over the dataset\n",
        "\n",
        "- Batch Size - the number of data samples propagated through the network before the parameters are updated\n",
        "\n",
        "- Learning Rate - how much to update models parameters at each batch/epoch. Smaller values yield slow learning speed, while large values may result in unpredictable behavior during training."
      ],
      "metadata": {
        "id": "Z2q23SSRqjEX"
      }
    },
    {
      "cell_type": "code",
      "source": [
        "learning_rate = 1e-3\n",
        "batch_size = 64\n",
        "epochs = 5"
      ],
      "metadata": {
        "id": "Loi63_UCqcbe"
      },
      "execution_count": 3,
      "outputs": []
    },
    {
      "cell_type": "markdown",
      "source": [
        "#### Optimization Loop\n",
        "\n",
        "Once we set our hyperparameters, we can then train and optimize our model with an optimization loop. Each iteration of the optimization loop is called an epoch.\n",
        "\n",
        "Each epoch consists of two main parts:\n",
        "The Train Loop - iterate over the training dataset and try to converge to optimal parameters.\n",
        "\n",
        "The Validation/Test Loop - iterate over the test dataset to check if model performance is improving."
      ],
      "metadata": {
        "id": "R2zhp6b8smw_"
      }
    },
    {
      "cell_type": "markdown",
      "source": [
        "#### Loss Function\n",
        "\n",
        "When presented with some training data, our untrained network is likely not to give the correct answer. Loss function measures the degree of dissimilarity of obtained result to the target value, and it is the loss function that we want to minimize during training. To calculate the loss we make a prediction using the inputs of our given data sample and compare it against the true data label value.\n",
        "\n",
        "Common loss functions include nn.MSELoss (Mean Square Error) for regression tasks, and nn.NLLLoss (Negative Log Likelihood) for classification. nn.CrossEntropyLoss combines nn.LogSoftmax and nn.NLLLoss.\n",
        "\n",
        "We pass our model’s output logits to nn.CrossEntropyLoss, which will normalize the logits and compute the prediction error."
      ],
      "metadata": {
        "id": "3RHdyjMKsuDb"
      }
    },
    {
      "cell_type": "code",
      "source": [
        "# Initialize the loss function\n",
        "loss_fn = nn.CrossEntropyLoss()"
      ],
      "metadata": {
        "id": "HyRIisMJqtNE"
      },
      "execution_count": 4,
      "outputs": []
    },
    {
      "cell_type": "markdown",
      "source": [
        "#### Optimizer\n",
        "\n",
        "Optimization is the process of adjusting model parameters to reduce model error in each training step. Optimization algorithms define how this process is performed (in this example we use Stochastic Gradient Descent). All optimization logic is encapsulated in the optimizer object. Here, we use the SGD optimizer; additionally, there are many different optimizers available in PyTorch such as ADAM and RMSProp, that work better for different kinds of models and data.\n",
        "\n",
        "We initialize the optimizer by registering the model’s parameters that need to be trained, and passing in the learning rate hyperparameter."
      ],
      "metadata": {
        "id": "-wpllmKNtCBh"
      }
    },
    {
      "cell_type": "code",
      "source": [
        "optimizer = torch.optim.SGD(model.parameters(), lr=learning_rate)"
      ],
      "metadata": {
        "id": "M30Z2LvttFIh"
      },
      "execution_count": 5,
      "outputs": []
    },
    {
      "cell_type": "markdown",
      "source": [
        "Inside the training loop, optimization happens in three steps:\n",
        "\n",
        "- Call optimizer.zero_grad() to reset the gradients of model parameters. Gradients by default add up; to prevent double-counting, we explicitly zero them at each iteration.\n",
        "\n",
        "- Backpropagate the prediction loss with a call to loss.backward(). PyTorch deposits the gradients of the loss w.r.t. each parameter.\n",
        "\n",
        "- Once we have our gradients, we call optimizer.step() to adjust the parameters by the gradients collected in the backward pass."
      ],
      "metadata": {
        "id": "tLkz42vry7VG"
      }
    },
    {
      "cell_type": "markdown",
      "source": [
        "#### Full Implementation\n",
        "\n",
        "We define train_loop that loops over our optimization code, and test_loop that evaluates the model’s performance against our test data."
      ],
      "metadata": {
        "id": "_fbdai8FzF-3"
      }
    },
    {
      "cell_type": "code",
      "source": [
        "def train_loop(dataloader, model, loss_fn, optimizer):\n",
        "    size = len(dataloader.dataset)\n",
        "    # Set the model to training mode - important for batch normalization and dropout layers\n",
        "    # Unnecessary in this situation but added for best practices\n",
        "    model.train()\n",
        "    for batch, (X, y) in enumerate(dataloader):\n",
        "        # Compute prediction and loss\n",
        "        pred = model(X)\n",
        "        loss = loss_fn(pred, y)\n",
        "\n",
        "        # Backpropagation\n",
        "        loss.backward()\n",
        "        optimizer.step()\n",
        "        optimizer.zero_grad()\n",
        "\n",
        "        if batch % 100 == 0:\n",
        "            loss, current = loss.item(), batch * batch_size + len(X)\n",
        "            print(f\"loss: {loss:>7f}  [{current:>5d}/{size:>5d}]\")\n",
        "\n",
        "\n",
        "def test_loop(dataloader, model, loss_fn):\n",
        "    # Set the model to evaluation mode - important for batch normalization and dropout layers\n",
        "    # Unnecessary in this situation but added for best practices\n",
        "    model.eval()\n",
        "    size = len(dataloader.dataset)\n",
        "    num_batches = len(dataloader)\n",
        "    test_loss, correct = 0, 0\n",
        "\n",
        "    # Evaluating the model with torch.no_grad() ensures that no gradients are computed during test mode\n",
        "    # also serves to reduce unnecessary gradient computations and memory usage for tensors with requires_grad=True\n",
        "    with torch.no_grad():\n",
        "        for X, y in dataloader:\n",
        "            pred = model(X)\n",
        "            test_loss += loss_fn(pred, y).item()\n",
        "            correct += (pred.argmax(1) == y).type(torch.float).sum().item()\n",
        "\n",
        "    test_loss /= num_batches\n",
        "    correct /= size\n",
        "    print(f\"Test Error: \\n Accuracy: {(100*correct):>0.1f}%, Avg loss: {test_loss:>8f} \\n\")"
      ],
      "metadata": {
        "id": "tDdBO0rhzFKO"
      },
      "execution_count": 6,
      "outputs": []
    },
    {
      "cell_type": "code",
      "source": [
        "loss_fn = nn.CrossEntropyLoss()\n",
        "optimizer = torch.optim.SGD(model.parameters(), lr=learning_rate)\n",
        "\n",
        "epochs = 10\n",
        "for t in range(epochs):\n",
        "    print(f\"Epoch {t+1}\\n-------------------------------\")\n",
        "    train_loop(train_dataloader, model, loss_fn, optimizer)\n",
        "    test_loop(test_dataloader, model, loss_fn)\n",
        "print(\"Done!\")"
      ],
      "metadata": {
        "colab": {
          "base_uri": "https://localhost:8080/"
        },
        "id": "ZDDHOpVnA5Xh",
        "outputId": "13a0b3c1-b061-4225-b6c5-2fb4bab765e3"
      },
      "execution_count": 7,
      "outputs": [
        {
          "output_type": "stream",
          "name": "stdout",
          "text": [
            "Epoch 1\n",
            "-------------------------------\n",
            "loss: 2.297569  [   64/60000]\n",
            "loss: 2.289386  [ 6464/60000]\n",
            "loss: 2.265592  [12864/60000]\n",
            "loss: 2.264091  [19264/60000]\n",
            "loss: 2.253671  [25664/60000]\n",
            "loss: 2.218117  [32064/60000]\n",
            "loss: 2.236205  [38464/60000]\n",
            "loss: 2.202128  [44864/60000]\n",
            "loss: 2.196248  [51264/60000]\n",
            "loss: 2.163363  [57664/60000]\n",
            "Test Error: \n",
            " Accuracy: 37.2%, Avg loss: 2.159520 \n",
            "\n",
            "Epoch 2\n",
            "-------------------------------\n",
            "loss: 2.161667  [   64/60000]\n",
            "loss: 2.156657  [ 6464/60000]\n",
            "loss: 2.092937  [12864/60000]\n",
            "loss: 2.117291  [19264/60000]\n",
            "loss: 2.072376  [25664/60000]\n",
            "loss: 2.001410  [32064/60000]\n",
            "loss: 2.042696  [38464/60000]\n",
            "loss: 1.959597  [44864/60000]\n",
            "loss: 1.960072  [51264/60000]\n",
            "loss: 1.892671  [57664/60000]\n",
            "Test Error: \n",
            " Accuracy: 55.2%, Avg loss: 1.891707 \n",
            "\n",
            "Epoch 3\n",
            "-------------------------------\n",
            "loss: 1.909461  [   64/60000]\n",
            "loss: 1.888612  [ 6464/60000]\n",
            "loss: 1.763058  [12864/60000]\n",
            "loss: 1.818992  [19264/60000]\n",
            "loss: 1.716103  [25664/60000]\n",
            "loss: 1.649371  [32064/60000]\n",
            "loss: 1.687128  [38464/60000]\n",
            "loss: 1.580071  [44864/60000]\n",
            "loss: 1.601622  [51264/60000]\n",
            "loss: 1.508762  [57664/60000]\n",
            "Test Error: \n",
            " Accuracy: 62.8%, Avg loss: 1.525343 \n",
            "\n",
            "Epoch 4\n",
            "-------------------------------\n",
            "loss: 1.573338  [   64/60000]\n",
            "loss: 1.551925  [ 6464/60000]\n",
            "loss: 1.399830  [12864/60000]\n",
            "loss: 1.484329  [19264/60000]\n",
            "loss: 1.371190  [25664/60000]\n",
            "loss: 1.349686  [32064/60000]\n",
            "loss: 1.373669  [38464/60000]\n",
            "loss: 1.292824  [44864/60000]\n",
            "loss: 1.327257  [51264/60000]\n",
            "loss: 1.238939  [57664/60000]\n",
            "Test Error: \n",
            " Accuracy: 63.8%, Avg loss: 1.262426 \n",
            "\n",
            "Epoch 5\n",
            "-------------------------------\n",
            "loss: 1.323204  [   64/60000]\n",
            "loss: 1.316820  [ 6464/60000]\n",
            "loss: 1.152541  [12864/60000]\n",
            "loss: 1.265464  [19264/60000]\n",
            "loss: 1.146249  [25664/60000]\n",
            "loss: 1.154778  [32064/60000]\n",
            "loss: 1.180893  [38464/60000]\n",
            "loss: 1.112974  [44864/60000]\n",
            "loss: 1.155354  [51264/60000]\n",
            "loss: 1.079807  [57664/60000]\n",
            "Test Error: \n",
            " Accuracy: 64.8%, Avg loss: 1.098025 \n",
            "\n",
            "Epoch 6\n",
            "-------------------------------\n",
            "loss: 1.155614  [   64/60000]\n",
            "loss: 1.168391  [ 6464/60000]\n",
            "loss: 0.988075  [12864/60000]\n",
            "loss: 1.127215  [19264/60000]\n",
            "loss: 1.006287  [25664/60000]\n",
            "loss: 1.024240  [32064/60000]\n",
            "loss: 1.061374  [38464/60000]\n",
            "loss: 0.996657  [44864/60000]\n",
            "loss: 1.041396  [51264/60000]\n",
            "loss: 0.979418  [57664/60000]\n",
            "Test Error: \n",
            " Accuracy: 65.9%, Avg loss: 0.991049 \n",
            "\n",
            "Epoch 7\n",
            "-------------------------------\n",
            "loss: 1.038410  [   64/60000]\n",
            "loss: 1.072217  [ 6464/60000]\n",
            "loss: 0.873817  [12864/60000]\n",
            "loss: 1.034392  [19264/60000]\n",
            "loss: 0.917820  [25664/60000]\n",
            "loss: 0.932660  [32064/60000]\n",
            "loss: 0.983969  [38464/60000]\n",
            "loss: 0.919595  [44864/60000]\n",
            "loss: 0.961894  [51264/60000]\n",
            "loss: 0.912300  [57664/60000]\n",
            "Test Error: \n",
            " Accuracy: 67.0%, Avg loss: 0.917907 \n",
            "\n",
            "Epoch 8\n",
            "-------------------------------\n",
            "loss: 0.952276  [   64/60000]\n",
            "loss: 1.005188  [ 6464/60000]\n",
            "loss: 0.791367  [12864/60000]\n",
            "loss: 0.968355  [19264/60000]\n",
            "loss: 0.859021  [25664/60000]\n",
            "loss: 0.866428  [32064/60000]\n",
            "loss: 0.930336  [38464/60000]\n",
            "loss: 0.867231  [44864/60000]\n",
            "loss: 0.904648  [51264/60000]\n",
            "loss: 0.863783  [57664/60000]\n",
            "Test Error: \n",
            " Accuracy: 68.1%, Avg loss: 0.865166 \n",
            "\n",
            "Epoch 9\n",
            "-------------------------------\n",
            "loss: 0.886348  [   64/60000]\n",
            "loss: 0.954429  [ 6464/60000]\n",
            "loss: 0.729213  [12864/60000]\n",
            "loss: 0.918547  [19264/60000]\n",
            "loss: 0.817204  [25664/60000]\n",
            "loss: 0.816981  [32064/60000]\n",
            "loss: 0.890250  [38464/60000]\n",
            "loss: 0.830229  [44864/60000]\n",
            "loss: 0.862015  [51264/60000]\n",
            "loss: 0.826370  [57664/60000]\n",
            "Test Error: \n",
            " Accuracy: 69.1%, Avg loss: 0.825164 \n",
            "\n",
            "Epoch 10\n",
            "-------------------------------\n",
            "loss: 0.833478  [   64/60000]\n",
            "loss: 0.913236  [ 6464/60000]\n",
            "loss: 0.680724  [12864/60000]\n",
            "loss: 0.879627  [19264/60000]\n",
            "loss: 0.785531  [25664/60000]\n",
            "loss: 0.778841  [32064/60000]\n",
            "loss: 0.858137  [38464/60000]\n",
            "loss: 0.802871  [44864/60000]\n",
            "loss: 0.828911  [51264/60000]\n",
            "loss: 0.796385  [57664/60000]\n",
            "Test Error: \n",
            " Accuracy: 70.2%, Avg loss: 0.793401 \n",
            "\n",
            "Done!\n"
          ]
        }
      ]
    },
    {
      "cell_type": "markdown",
      "source": [
        "#### Saving and Loading Weights\n",
        "\n",
        "PyTorch models store the learned parameters in an internal state dictionary, called state_dict. These can be persisted via the torch.save method:"
      ],
      "metadata": {
        "id": "ZoCH8kNAD2Id"
      }
    },
    {
      "cell_type": "markdown",
      "source": [
        "1. torch.save() - save a pytorch object in python's pickle (pure Python) format\n",
        "2. torch.load() - allows you load a saved PyTorch object\n",
        "3. torch.nn.Model.load_state_dict() - this allows to load a model's saved state dictionary"
      ],
      "metadata": {
        "id": "s9xEtuc8EKrC"
      }
    },
    {
      "cell_type": "markdown",
      "source": [
        "1. Saving and Loading Model Weights"
      ],
      "metadata": {
        "id": "cx3NsIQrGLTR"
      }
    },
    {
      "cell_type": "code",
      "source": [
        "import torch\n",
        "import torchvision.models as models"
      ],
      "metadata": {
        "id": "aqVZrhAIEAn0"
      },
      "execution_count": 9,
      "outputs": []
    },
    {
      "cell_type": "code",
      "source": [
        "model = models.vgg16(weights='IMAGENET1K_V1')\n",
        "torch.save(model.state_dict(), 'model_weights.pth')"
      ],
      "metadata": {
        "colab": {
          "base_uri": "https://localhost:8080/"
        },
        "id": "w2o7mdDvD4kS",
        "outputId": "5c81a47c-d58f-428e-ec20-d3c7609855fd"
      },
      "execution_count": 10,
      "outputs": [
        {
          "output_type": "stream",
          "name": "stderr",
          "text": [
            "Downloading: \"https://download.pytorch.org/models/vgg16-397923af.pth\" to /root/.cache/torch/hub/checkpoints/vgg16-397923af.pth\n",
            "100%|██████████| 528M/528M [00:05<00:00, 99.7MB/s]\n"
          ]
        }
      ]
    },
    {
      "cell_type": "markdown",
      "source": [
        "To load model weights, you need to create an instance of the same model first, and then load the parameters using load_state_dict() method.\n",
        "\n",
        "In the code below, we set weights_only=True to limit the functions executed during unpickling to only those necessary for loading weights. Using weights_only=True is considered a best practice when loading weights."
      ],
      "metadata": {
        "id": "14kPsUKMFFTC"
      }
    },
    {
      "cell_type": "code",
      "source": [
        "model = models.vgg16() # we do not specify ``weights``, i.e. create untrained model\n",
        "model.load_state_dict(torch.load('model_weights.pth', weights_only=True))\n",
        "model.eval()"
      ],
      "metadata": {
        "colab": {
          "base_uri": "https://localhost:8080/"
        },
        "id": "_nXJQgj5FGFy",
        "outputId": "84dadf21-5e7e-4297-e0d6-67b3e6bf3b79"
      },
      "execution_count": 11,
      "outputs": [
        {
          "output_type": "execute_result",
          "data": {
            "text/plain": [
              "VGG(\n",
              "  (features): Sequential(\n",
              "    (0): Conv2d(3, 64, kernel_size=(3, 3), stride=(1, 1), padding=(1, 1))\n",
              "    (1): ReLU(inplace=True)\n",
              "    (2): Conv2d(64, 64, kernel_size=(3, 3), stride=(1, 1), padding=(1, 1))\n",
              "    (3): ReLU(inplace=True)\n",
              "    (4): MaxPool2d(kernel_size=2, stride=2, padding=0, dilation=1, ceil_mode=False)\n",
              "    (5): Conv2d(64, 128, kernel_size=(3, 3), stride=(1, 1), padding=(1, 1))\n",
              "    (6): ReLU(inplace=True)\n",
              "    (7): Conv2d(128, 128, kernel_size=(3, 3), stride=(1, 1), padding=(1, 1))\n",
              "    (8): ReLU(inplace=True)\n",
              "    (9): MaxPool2d(kernel_size=2, stride=2, padding=0, dilation=1, ceil_mode=False)\n",
              "    (10): Conv2d(128, 256, kernel_size=(3, 3), stride=(1, 1), padding=(1, 1))\n",
              "    (11): ReLU(inplace=True)\n",
              "    (12): Conv2d(256, 256, kernel_size=(3, 3), stride=(1, 1), padding=(1, 1))\n",
              "    (13): ReLU(inplace=True)\n",
              "    (14): Conv2d(256, 256, kernel_size=(3, 3), stride=(1, 1), padding=(1, 1))\n",
              "    (15): ReLU(inplace=True)\n",
              "    (16): MaxPool2d(kernel_size=2, stride=2, padding=0, dilation=1, ceil_mode=False)\n",
              "    (17): Conv2d(256, 512, kernel_size=(3, 3), stride=(1, 1), padding=(1, 1))\n",
              "    (18): ReLU(inplace=True)\n",
              "    (19): Conv2d(512, 512, kernel_size=(3, 3), stride=(1, 1), padding=(1, 1))\n",
              "    (20): ReLU(inplace=True)\n",
              "    (21): Conv2d(512, 512, kernel_size=(3, 3), stride=(1, 1), padding=(1, 1))\n",
              "    (22): ReLU(inplace=True)\n",
              "    (23): MaxPool2d(kernel_size=2, stride=2, padding=0, dilation=1, ceil_mode=False)\n",
              "    (24): Conv2d(512, 512, kernel_size=(3, 3), stride=(1, 1), padding=(1, 1))\n",
              "    (25): ReLU(inplace=True)\n",
              "    (26): Conv2d(512, 512, kernel_size=(3, 3), stride=(1, 1), padding=(1, 1))\n",
              "    (27): ReLU(inplace=True)\n",
              "    (28): Conv2d(512, 512, kernel_size=(3, 3), stride=(1, 1), padding=(1, 1))\n",
              "    (29): ReLU(inplace=True)\n",
              "    (30): MaxPool2d(kernel_size=2, stride=2, padding=0, dilation=1, ceil_mode=False)\n",
              "  )\n",
              "  (avgpool): AdaptiveAvgPool2d(output_size=(7, 7))\n",
              "  (classifier): Sequential(\n",
              "    (0): Linear(in_features=25088, out_features=4096, bias=True)\n",
              "    (1): ReLU(inplace=True)\n",
              "    (2): Dropout(p=0.5, inplace=False)\n",
              "    (3): Linear(in_features=4096, out_features=4096, bias=True)\n",
              "    (4): ReLU(inplace=True)\n",
              "    (5): Dropout(p=0.5, inplace=False)\n",
              "    (6): Linear(in_features=4096, out_features=1000, bias=True)\n",
              "  )\n",
              ")"
            ]
          },
          "metadata": {},
          "execution_count": 11
        }
      ]
    },
    {
      "cell_type": "markdown",
      "source": [
        "be sure to call model.eval() method before inferencing to set the dropout and batch normalization layers to evaluation mode. Failing to do this will yield inconsistent inference results."
      ],
      "metadata": {
        "id": "fdvSSHQ_FQlA"
      }
    },
    {
      "cell_type": "markdown",
      "source": [
        "2. Saving and Loading Models with Shapes\n",
        "\n",
        "When loading model weights, we needed to instantiate the model class first, because the class defines the structure of a network. We might want to save the structure of this class together with the model, in which case we can pass model (and not model.state_dict()) to the saving function:"
      ],
      "metadata": {
        "id": "qKfjX7iWGNX0"
      }
    },
    {
      "cell_type": "code",
      "source": [
        "torch.save(model, 'model.pth')"
      ],
      "metadata": {
        "id": "MqWzaX-3GQ3Q"
      },
      "execution_count": 12,
      "outputs": []
    },
    {
      "cell_type": "markdown",
      "source": [
        "We can then load the model as demonstrated below.\n",
        "\n",
        "As described in Saving and loading torch.nn.Modules, saving state_dict``s is considered the best practice. However, below we use ``weights_only=False because this involves loading the model, which is a legacy use case for torch.save."
      ],
      "metadata": {
        "id": "UsK_02wwGaMq"
      }
    },
    {
      "cell_type": "code",
      "source": [
        "model = torch.load('model.pth', weights_only=False)"
      ],
      "metadata": {
        "id": "YN9BXqF3GaiB"
      },
      "execution_count": 13,
      "outputs": []
    },
    {
      "cell_type": "markdown",
      "source": [
        "## 4. A 60 minutes Blitz of deep learning with Pytorch"
      ],
      "metadata": {
        "id": "mwE8cjstISmN"
      }
    },
    {
      "cell_type": "markdown",
      "source": [
        "#### 4.1 Torchgrad\n",
        "\n",
        "\n",
        "torch.autograd is PyTorch’s automatic differentiation engine that powers neural network training. In this section, you will get a conceptual understanding of how autograd helps a neural network train.\n",
        "\n",
        "Background\n",
        "Neural networks (NNs) are a collection of nested functions that are executed on some input data. These functions are defined by parameters (consisting of weights and biases), which in PyTorch are stored in tensors.\n",
        "\n",
        "Training a NN happens in two steps:\n",
        "\n",
        "Forward Propagation: In forward prop, the NN makes its best guess about the correct output. It runs the input data through each of its functions to make this guess.\n",
        "\n",
        "Backward Propagation: In backprop, the NN adjusts its parameters proportionate to the error in its guess. It does this by traversing backwards from the output, collecting the derivatives of the error with respect to the parameters of the functions (gradients), and optimizing the parameters using gradient descent. For a more detailed walkthrough of backprop, check out this video from 3Blue1Brown.\n"
      ],
      "metadata": {
        "id": "GwQ-NjCLImjC"
      }
    },
    {
      "cell_type": "markdown",
      "source": [
        "Let’s take a look at a single training step. For this example, we load a pretrained resnet18 model from torchvision. We create a random data tensor to represent a single image with 3 channels, and height & width of 64, and its corresponding label initialized to some random values. Label in pretrained models has shape (1,1000)."
      ],
      "metadata": {
        "id": "tsPgpMmtI3E3"
      }
    },
    {
      "cell_type": "code",
      "source": [
        "import torch\n",
        "from torchvision.models import resnet18, ResNet18_Weights\n",
        "model = resnet18(weights=ResNet18_Weights.DEFAULT)\n",
        "data = torch.rand(1, 3, 64, 64)\n",
        "labels = torch.rand(1, 1000)"
      ],
      "metadata": {
        "colab": {
          "base_uri": "https://localhost:8080/"
        },
        "id": "B7Gd44a4Is3z",
        "outputId": "5cab0093-243d-4f57-aeb7-9cd06555f2f4"
      },
      "execution_count": 1,
      "outputs": [
        {
          "output_type": "stream",
          "name": "stderr",
          "text": [
            "Downloading: \"https://download.pytorch.org/models/resnet18-f37072fd.pth\" to /root/.cache/torch/hub/checkpoints/resnet18-f37072fd.pth\n",
            "100%|██████████| 44.7M/44.7M [00:01<00:00, 44.7MB/s]\n"
          ]
        }
      ]
    },
    {
      "cell_type": "code",
      "source": [
        "prediction = model(data) # forward pass"
      ],
      "metadata": {
        "id": "ZjP6MPNhI6Rf"
      },
      "execution_count": 2,
      "outputs": []
    },
    {
      "cell_type": "code",
      "source": [
        "loss = (prediction - labels).sum()\n",
        "loss.backward() # backward pass"
      ],
      "metadata": {
        "id": "K0E7goSvI7-7"
      },
      "execution_count": 3,
      "outputs": []
    },
    {
      "cell_type": "code",
      "source": [
        "optim = torch.optim.SGD(model.parameters(), lr=1e-2, momentum=0.9)"
      ],
      "metadata": {
        "id": "emMFxiqlJAvF"
      },
      "execution_count": 4,
      "outputs": []
    },
    {
      "cell_type": "markdown",
      "source": [
        "Finally, we call .step() to initiate gradient descent. The optimizer adjusts each parameter by its gradient stored in .grad"
      ],
      "metadata": {
        "id": "a39bpZdeJEUC"
      }
    },
    {
      "cell_type": "code",
      "source": [
        "optim.step() #gradient descent"
      ],
      "metadata": {
        "id": "UgSpwwAwJEtS"
      },
      "execution_count": 5,
      "outputs": []
    },
    {
      "cell_type": "markdown",
      "source": [
        "## 5. Performing Data Preprocessing on Custom Dataset\n",
        "\n",
        "GeeksforGeeks link [here](https://www.geeksforgeeks.org/data-preprocessing-in-pytorch/)\n",
        "\n",
        "Define a Class for Custom Dataset\n",
        "The CustomDataset class inherits from PyTorch’s Dataset. The class loads data from a csv file, preprocess it and provides methods for accessing individual samples.\n",
        "\n",
        "- __init__ Method: The constructor initializes the dataset by loading the CSV file specified by csv_file. It also accepts an optional transform argument for applying additional transformations (not used in this example).\n",
        "Data Preprocessing: The CSV file is loaded into a pandas DataFrame, missing values are handled using SimpleImputer, categorical variables are encoded using LabelEncoder, and numerical features are scaled using StandardScaler.\n",
        "- __len__ Method: This method returns the total number of samples in the dataset.\n",
        "- __getitem__ Method: This method is used to access individual samples from the dataset. It returns a tuple containing the sample (features) and its corresponding target (label)."
      ],
      "metadata": {
        "id": "m60Cy9C7M6jc"
      }
    },
    {
      "cell_type": "code",
      "source": [
        "import torch\n",
        "from torch.utils.data import Dataset, DataLoader\n",
        "import pandas as pd\n",
        "from sklearn.preprocessing import LabelEncoder, StandardScaler\n",
        "from sklearn.impute import SimpleImputer"
      ],
      "metadata": {
        "id": "kVVLqJDiNO5S"
      },
      "execution_count": 7,
      "outputs": []
    },
    {
      "cell_type": "code",
      "source": [
        "class CustomDataset(Dataset):\n",
        "    def __init__(self, csv_file, transform=None):\n",
        "        self.data = pd.read_csv(csv_file)\n",
        "        self.transform = transform\n",
        "\n",
        "        # Handle missing values\n",
        "        imputer = SimpleImputer(strategy='mean')\n",
        "        self.data.fillna(self.data.mean(), inplace=True)\n",
        "\n",
        "        # Encode categorical variables\n",
        "        label_encoders = {}\n",
        "        for column in self.data.select_dtypes(include=['object']).columns:\n",
        "            label_encoders[column] = LabelEncoder()\n",
        "            self.data[column] = label_encoders[column].fit_transform(self.data[column])\n",
        "\n",
        "        # Scale numerical features\n",
        "        scaler = StandardScaler()\n",
        "        self.data[self.data.select_dtypes(include=['number']).columns] = scaler.fit_transform(self.data[self.data.select_dtypes(include=['number']).columns])\n",
        "\n",
        "    def __len__(self):\n",
        "        return len(self.data)\n",
        "\n",
        "    def __getitem__(self, idx):\n",
        "        sample = torch.tensor(self.data.iloc[idx, :-1], dtype=torch.float)\n",
        "        target = torch.tensor(self.data.iloc[idx, -1], dtype=torch.long)\n",
        "\n",
        "        if self.transform:\n",
        "            sample = self.transform(sample)\n",
        "\n",
        "        return sample, target"
      ],
      "metadata": {
        "id": "SWMU_J9-NHW8"
      },
      "execution_count": 8,
      "outputs": []
    }
  ]
}